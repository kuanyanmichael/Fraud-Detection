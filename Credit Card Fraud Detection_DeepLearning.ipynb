{
 "cells": [
  {
   "cell_type": "code",
   "execution_count": 1,
   "metadata": {},
   "outputs": [],
   "source": [
    "import os\n",
    "import numpy as np\n",
    "import pandas as pd\n",
    "from sklearn import preprocessing\n",
    "from sklearn.metrics import roc_auc_score\n",
    "from sklearn.metrics import precision_recall_fscore_support\n",
    "from sklearn.metrics import accuracy_score"
   ]
  },
  {
   "cell_type": "code",
   "execution_count": 2,
   "metadata": {},
   "outputs": [
    {
     "name": "stdout",
     "output_type": "stream",
     "text": [
      "(80397, 433)\n",
      "(10000, 432)\n",
      "CPU times: user 3.08 s, sys: 657 ms, total: 3.73 s\n",
      "Wall time: 3.74 s\n"
     ]
    }
   ],
   "source": [
    "%%time\n",
    "train_transaction = pd.read_csv('newtrain_transaction_200000.csv', index_col='TransactionID')\n",
    "test_transaction = pd.read_csv('newtest_transaction_withoutlabel.csv', index_col='TransactionID')\n",
    "\n",
    "train_identity = pd.read_csv('newtrain_identity.csv', index_col='TransactionID')\n",
    "test_identity = pd.read_csv('newtest_identity.csv', index_col='TransactionID')\n",
    "\n",
    "sample_submission = pd.read_csv('newsample_submission.csv', index_col='TransactionID')\n",
    "\n",
    "train = train_transaction.merge(train_identity, how='left', left_index=True, right_index=True)\n",
    "test = test_transaction.merge(test_identity, how='left', left_index=True, right_index=True)\n",
    "\n",
    "print(train.shape)\n",
    "print(test.shape)\n",
    "\n",
    "y_train = train['isFraud'].copy()\n",
    "del train_transaction, train_identity, test_transaction, test_identity\n",
    "\n",
    "# Drop target\n",
    "X_train = train.drop('isFraud', axis=1)\n",
    "X_test = test.copy()\n",
    "\n",
    "del train, test"
   ]
  },
  {
   "cell_type": "code",
   "execution_count": 3,
   "metadata": {},
   "outputs": [],
   "source": [
    "X_test_filter = X_test.copy()\n",
    "X_train_filter = X_train.copy()\n",
    "\n",
    "\n",
    "### drop all the NaN columns\n",
    "### dropna() - \n",
    "for column in X_test_filter.columns:\n",
    "    if pd.isnull(X_test_filter[column].unique()[0]):\n",
    "        X_train_filter.drop([column], axis = 1, inplace=True)\n",
    "        X_test_filter.drop([column], axis = 1, inplace=True)"
   ]
  },
  {
   "cell_type": "code",
   "execution_count": 4,
   "metadata": {},
   "outputs": [],
   "source": [
    "# Label Encoding\n",
    "def label_encoding(X_train, X_test):\n",
    "    for f in X_train.columns:\n",
    "        if X_train[f].dtype=='object' or X_test[f].dtype=='object': \n",
    "            lbl = preprocessing.LabelEncoder()\n",
    "            lbl.fit(list(X_train[f].values) + list(X_test[f].values))\n",
    "            X_train[f] = lbl.transform(list(X_train[f].values))\n",
    "            X_test[f] = lbl.transform(list(X_test[f].values))\n",
    "    return X_train, X_test"
   ]
  },
  {
   "cell_type": "code",
   "execution_count": 5,
   "metadata": {},
   "outputs": [],
   "source": [
    "X_train_filter_, X_test_filter_ = label_encoding(X_train_filter, X_test_filter)"
   ]
  },
  {
   "cell_type": "code",
   "execution_count": 6,
   "metadata": {},
   "outputs": [],
   "source": [
    "def fill_na_df(X_train, X_test):\n",
    "    for col_name in X_train.columns: \n",
    "        X_train[col_name].fillna(X_train[col_name].mode()[0], inplace=True)\n",
    "        X_test[col_name].fillna(X_test[col_name].mode()[0], inplace=True)"
   ]
  },
  {
   "cell_type": "code",
   "execution_count": 7,
   "metadata": {},
   "outputs": [],
   "source": [
    "X_train_filter_fill = X_train_filter_.copy()\n",
    "X_test_filter_fill = X_test_filter_.copy()\n",
    "fill_na_df(X_train_filter_fill, X_test_filter_fill)"
   ]
  },
  {
   "cell_type": "code",
   "execution_count": 8,
   "metadata": {},
   "outputs": [],
   "source": [
    "def reduce_mem_usage(df):\n",
    "    \"\"\" iterate through all the columns of a dataframe and modify the data type\n",
    "        to reduce memory usage.        \n",
    "    \"\"\"\n",
    "    start_mem = df.memory_usage().sum() / 1024**2\n",
    "    print('Memory usage of dataframe is {:.2f} MB'.format(start_mem))\n",
    "    \n",
    "    for col in df.columns:\n",
    "        col_type = df[col].dtype\n",
    "        \n",
    "        if col_type != object:\n",
    "            c_min = df[col].min()\n",
    "            c_max = df[col].max()\n",
    "            if str(col_type)[:3] == 'int':\n",
    "                if c_min > np.iinfo(np.int8).min and c_max < np.iinfo(np.int8).max:\n",
    "                    df[col] = df[col].astype(np.int8)\n",
    "                elif c_min > np.iinfo(np.int16).min and c_max < np.iinfo(np.int16).max:\n",
    "                    df[col] = df[col].astype(np.int16)\n",
    "                elif c_min > np.iinfo(np.int32).min and c_max < np.iinfo(np.int32).max:\n",
    "                    df[col] = df[col].astype(np.int32)\n",
    "                elif c_min > np.iinfo(np.int64).min and c_max < np.iinfo(np.int64).max:\n",
    "                    df[col] = df[col].astype(np.int64)  \n",
    "            else:\n",
    "                if c_min > np.finfo(np.float16).min and c_max < np.finfo(np.float16).max:\n",
    "                    df[col] = df[col].astype(np.float16)\n",
    "                elif c_min > np.finfo(np.float32).min and c_max < np.finfo(np.float32).max:\n",
    "                    df[col] = df[col].astype(np.float32)\n",
    "                else:\n",
    "                    df[col] = df[col].astype(np.float64)\n",
    "        else:\n",
    "            df[col] = df[col].astype('category')\n",
    "\n",
    "    end_mem = df.memory_usage().sum() / 1024**2\n",
    "    print('Memory usage after optimization is: {:.2f} MB'.format(end_mem))\n",
    "    print('Decreased by {:.1f}%'.format(100 * (start_mem - end_mem) / start_mem))\n",
    "    \n",
    "    return df"
   ]
  },
  {
   "cell_type": "code",
   "execution_count": 9,
   "metadata": {},
   "outputs": [
    {
     "name": "stdout",
     "output_type": "stream",
     "text": [
      "Memory usage of dataframe is 138.62 MB\n",
      "Memory usage after optimization is: 37.19 MB\n",
      "Decreased by 73.2%\n",
      "Memory usage of dataframe is 17.24 MB\n",
      "Memory usage after optimization is: 4.58 MB\n",
      "Decreased by 73.5%\n",
      "CPU times: user 3.84 s, sys: 1.6 s, total: 5.44 s\n",
      "Wall time: 5.44 s\n"
     ]
    }
   ],
   "source": [
    "%%time\n",
    "X_train_filter_fill = reduce_mem_usage(pd.DataFrame(X_train_filter_fill))\n",
    "X_test_filter_fill = reduce_mem_usage(pd.DataFrame(X_test_filter_fill))"
   ]
  },
  {
   "cell_type": "code",
   "execution_count": 10,
   "metadata": {},
   "outputs": [],
   "source": [
    "from sklearn.model_selection import train_test_split\n",
    "from sklearn.preprocessing import StandardScaler\n",
    "from sklearn.preprocessing import MinMaxScaler\n",
    "\n",
    "sc = StandardScaler()\n",
    "X_train_filter_fill = sc.fit_transform(X_train_filter_fill)\n",
    "X_test_filter_fill = sc.fit_transform(X_test_filter_fill)\n",
    "\n",
    "X_train2, X_test2, Y_train2, Y_test2 = train_test_split(X_train_filter_fill, y_train, test_size=0.1, random_state=1)\n",
    "X_train = np.array(X_train2)\n",
    "y_train = np.array(Y_train2)\n",
    "X_test = np.array(X_test2)\n",
    "y_test = np.array(Y_test2)"
   ]
  },
  {
   "cell_type": "code",
   "execution_count": 11,
   "metadata": {},
   "outputs": [
    {
     "name": "stderr",
     "output_type": "stream",
     "text": [
      "Using TensorFlow backend.\n",
      "/Users/michael/opt/anaconda3/lib/python3.7/site-packages/tensorflow/python/framework/dtypes.py:516: FutureWarning: Passing (type, 1) or '1type' as a synonym of type is deprecated; in a future version of numpy, it will be understood as (type, (1,)) / '(1,)type'.\n",
      "  _np_qint8 = np.dtype([(\"qint8\", np.int8, 1)])\n",
      "/Users/michael/opt/anaconda3/lib/python3.7/site-packages/tensorflow/python/framework/dtypes.py:517: FutureWarning: Passing (type, 1) or '1type' as a synonym of type is deprecated; in a future version of numpy, it will be understood as (type, (1,)) / '(1,)type'.\n",
      "  _np_quint8 = np.dtype([(\"quint8\", np.uint8, 1)])\n",
      "/Users/michael/opt/anaconda3/lib/python3.7/site-packages/tensorflow/python/framework/dtypes.py:518: FutureWarning: Passing (type, 1) or '1type' as a synonym of type is deprecated; in a future version of numpy, it will be understood as (type, (1,)) / '(1,)type'.\n",
      "  _np_qint16 = np.dtype([(\"qint16\", np.int16, 1)])\n",
      "/Users/michael/opt/anaconda3/lib/python3.7/site-packages/tensorflow/python/framework/dtypes.py:519: FutureWarning: Passing (type, 1) or '1type' as a synonym of type is deprecated; in a future version of numpy, it will be understood as (type, (1,)) / '(1,)type'.\n",
      "  _np_quint16 = np.dtype([(\"quint16\", np.uint16, 1)])\n",
      "/Users/michael/opt/anaconda3/lib/python3.7/site-packages/tensorflow/python/framework/dtypes.py:520: FutureWarning: Passing (type, 1) or '1type' as a synonym of type is deprecated; in a future version of numpy, it will be understood as (type, (1,)) / '(1,)type'.\n",
      "  _np_qint32 = np.dtype([(\"qint32\", np.int32, 1)])\n",
      "/Users/michael/opt/anaconda3/lib/python3.7/site-packages/tensorflow/python/framework/dtypes.py:525: FutureWarning: Passing (type, 1) or '1type' as a synonym of type is deprecated; in a future version of numpy, it will be understood as (type, (1,)) / '(1,)type'.\n",
      "  np_resource = np.dtype([(\"resource\", np.ubyte, 1)])\n",
      "/Users/michael/opt/anaconda3/lib/python3.7/site-packages/tensorboard/compat/tensorflow_stub/dtypes.py:541: FutureWarning: Passing (type, 1) or '1type' as a synonym of type is deprecated; in a future version of numpy, it will be understood as (type, (1,)) / '(1,)type'.\n",
      "  _np_qint8 = np.dtype([(\"qint8\", np.int8, 1)])\n",
      "/Users/michael/opt/anaconda3/lib/python3.7/site-packages/tensorboard/compat/tensorflow_stub/dtypes.py:542: FutureWarning: Passing (type, 1) or '1type' as a synonym of type is deprecated; in a future version of numpy, it will be understood as (type, (1,)) / '(1,)type'.\n",
      "  _np_quint8 = np.dtype([(\"quint8\", np.uint8, 1)])\n",
      "/Users/michael/opt/anaconda3/lib/python3.7/site-packages/tensorboard/compat/tensorflow_stub/dtypes.py:543: FutureWarning: Passing (type, 1) or '1type' as a synonym of type is deprecated; in a future version of numpy, it will be understood as (type, (1,)) / '(1,)type'.\n",
      "  _np_qint16 = np.dtype([(\"qint16\", np.int16, 1)])\n",
      "/Users/michael/opt/anaconda3/lib/python3.7/site-packages/tensorboard/compat/tensorflow_stub/dtypes.py:544: FutureWarning: Passing (type, 1) or '1type' as a synonym of type is deprecated; in a future version of numpy, it will be understood as (type, (1,)) / '(1,)type'.\n",
      "  _np_quint16 = np.dtype([(\"quint16\", np.uint16, 1)])\n",
      "/Users/michael/opt/anaconda3/lib/python3.7/site-packages/tensorboard/compat/tensorflow_stub/dtypes.py:545: FutureWarning: Passing (type, 1) or '1type' as a synonym of type is deprecated; in a future version of numpy, it will be understood as (type, (1,)) / '(1,)type'.\n",
      "  _np_qint32 = np.dtype([(\"qint32\", np.int32, 1)])\n",
      "/Users/michael/opt/anaconda3/lib/python3.7/site-packages/tensorboard/compat/tensorflow_stub/dtypes.py:550: FutureWarning: Passing (type, 1) or '1type' as a synonym of type is deprecated; in a future version of numpy, it will be understood as (type, (1,)) / '(1,)type'.\n",
      "  np_resource = np.dtype([(\"resource\", np.ubyte, 1)])\n"
     ]
    }
   ],
   "source": [
    "from keras.layers import *\n",
    "from keras import models\n",
    "from keras.optimizers import Adam\n",
    "from keras.callbacks import TensorBoard, ModelCheckpoint, ReduceLROnPlateau, EarlyStopping"
   ]
  },
  {
   "cell_type": "code",
   "execution_count": 12,
   "metadata": {},
   "outputs": [],
   "source": [
    "import keras.backend as K\n",
    "\n",
    "def f1(y_true, y_pred):\n",
    "    true_positives = K.sum(K.round(K.clip(y_true * y_pred, 0, 1)))\n",
    "    possible_positives = K.sum(K.round(K.clip(y_true, 0, 1)))\n",
    "    predicted_positives = K.sum(K.round(K.clip(y_pred, 0, 1)))\n",
    "    precision = true_positives / (predicted_positives + K.epsilon())\n",
    "    recall = true_positives / (possible_positives + K.epsilon())\n",
    "    f1_val = 2*(precision*recall)/(precision+recall+K.epsilon())\n",
    "    return f1_val"
   ]
  },
  {
   "cell_type": "markdown",
   "metadata": {},
   "source": [
    "# Lenet-5"
   ]
  },
  {
   "cell_type": "code",
   "execution_count": 13,
   "metadata": {},
   "outputs": [],
   "source": [
    "def lenet_5_1D(length):\n",
    "    inputs = Input((length, 1))\n",
    "    x = Conv1D(64, 7, strides = 2, padding = 'valid')(inputs)\n",
    "    x = MaxPooling1D()(x)\n",
    "    x = Conv1D(64, 7, strides = 2, padding = 'valid')(x)\n",
    "    x = MaxPooling1D()(x)\n",
    "    x = Flatten()(x)\n",
    "    x = Dense(120, activation='relu')(x)\n",
    "    x = Dense(84, activation='relu')(x)\n",
    "    x = Dense(1, activation='sigmoid')(x)\n",
    "    \n",
    "    \n",
    "    model = models.Model(inputs = inputs, outputs = x)\n",
    "    \n",
    "    return model"
   ]
  },
  {
   "cell_type": "code",
   "execution_count": 14,
   "metadata": {},
   "outputs": [],
   "source": [
    "log_dir = \"logs/\""
   ]
  },
  {
   "cell_type": "code",
   "execution_count": 15,
   "metadata": {},
   "outputs": [
    {
     "name": "stdout",
     "output_type": "stream",
     "text": [
      "WARNING:tensorflow:From /Users/michael/opt/anaconda3/lib/python3.7/site-packages/keras/backend/tensorflow_backend.py:4070: The name tf.nn.max_pool is deprecated. Please use tf.nn.max_pool2d instead.\n",
      "\n"
     ]
    }
   ],
   "source": [
    "fraud = lenet_5_1D(X_train2.shape[-1])"
   ]
  },
  {
   "cell_type": "code",
   "execution_count": 16,
   "metadata": {},
   "outputs": [
    {
     "name": "stdout",
     "output_type": "stream",
     "text": [
      "WARNING:tensorflow:From /Users/michael/opt/anaconda3/lib/python3.7/site-packages/tensorflow/python/ops/nn_impl.py:180: add_dispatch_support.<locals>.wrapper (from tensorflow.python.ops.array_ops) is deprecated and will be removed in a future version.\n",
      "Instructions for updating:\n",
      "Use tf.where in 2.0, which has the same broadcast rule as np.where\n"
     ]
    }
   ],
   "source": [
    "from keras import optimizers\n",
    "sgd = optimizers.SGD(lr=.1, momentum=0.9, nesterov=True)\n",
    "fraud.compile(loss='binary_crossentropy', optimizer=sgd, metrics=[f1])"
   ]
  },
  {
   "cell_type": "code",
   "execution_count": 17,
   "metadata": {
    "scrolled": true
   },
   "outputs": [
    {
     "name": "stdout",
     "output_type": "stream",
     "text": [
      "Model: \"model_1\"\n",
      "_________________________________________________________________\n",
      "Layer (type)                 Output Shape              Param #   \n",
      "=================================================================\n",
      "input_1 (InputLayer)         (None, 225, 1)            0         \n",
      "_________________________________________________________________\n",
      "conv1d_1 (Conv1D)            (None, 110, 64)           512       \n",
      "_________________________________________________________________\n",
      "max_pooling1d_1 (MaxPooling1 (None, 55, 64)            0         \n",
      "_________________________________________________________________\n",
      "conv1d_2 (Conv1D)            (None, 25, 64)            28736     \n",
      "_________________________________________________________________\n",
      "max_pooling1d_2 (MaxPooling1 (None, 12, 64)            0         \n",
      "_________________________________________________________________\n",
      "flatten_1 (Flatten)          (None, 768)               0         \n",
      "_________________________________________________________________\n",
      "dense_1 (Dense)              (None, 120)               92280     \n",
      "_________________________________________________________________\n",
      "dense_2 (Dense)              (None, 84)                10164     \n",
      "_________________________________________________________________\n",
      "dense_3 (Dense)              (None, 1)                 85        \n",
      "=================================================================\n",
      "Total params: 131,777\n",
      "Trainable params: 131,777\n",
      "Non-trainable params: 0\n",
      "_________________________________________________________________\n"
     ]
    }
   ],
   "source": [
    "fraud.summary()"
   ]
  },
  {
   "cell_type": "code",
   "execution_count": 18,
   "metadata": {},
   "outputs": [
    {
     "data": {
      "text/plain": [
       "array([0, 0, 0, ..., 0, 0, 0])"
      ]
     },
     "execution_count": 18,
     "metadata": {},
     "output_type": "execute_result"
    }
   ],
   "source": [
    "Y_train2.values"
   ]
  },
  {
   "cell_type": "code",
   "execution_count": 19,
   "metadata": {},
   "outputs": [],
   "source": [
    "X_train2_ = X_train2.reshape(X_train2.shape[0], X_train2.shape[1], 1)\n",
    "X_test2_ = X_test2.reshape(X_test2.shape[0], X_test2.shape[1], 1)"
   ]
  },
  {
   "cell_type": "code",
   "execution_count": 20,
   "metadata": {},
   "outputs": [],
   "source": [
    "#save the model(every 5 epoches)\n",
    "checkpoint_period = ModelCheckpoint(\n",
    "                                    log_dir + 'ep{epoch:03d}-loss{loss:.3f}-val_loss{val_loss:.3f}.h5',\n",
    "                                    monitor='val_loss', \n",
    "                                    save_weights_only=False, \n",
    "                                    save_best_only=True, \n",
    "                                    period=5\n",
    "                                )"
   ]
  },
  {
   "cell_type": "code",
   "execution_count": 21,
   "metadata": {},
   "outputs": [],
   "source": [
    "#reduce the lr, if the val_loss does not reduce in 3 epoches, then reduce the lr, factor is 0.5\n",
    "from keras.callbacks import LearningRateScheduler\n",
    "def scheduler(epoch):\n",
    "    if epoch < 100:\n",
    "        return 0.01\n",
    "    if epoch < 150:\n",
    "        return 0.005\n",
    "    return 0.001\n",
    "reduce_lr = LearningRateScheduler(scheduler)"
   ]
  },
  {
   "cell_type": "code",
   "execution_count": 22,
   "metadata": {},
   "outputs": [],
   "source": [
    "#early stopp\n",
    "early_stopping = EarlyStopping(\n",
    "                            monitor='val_loss', \n",
    "                            min_delta=0, \n",
    "                            patience=10, \n",
    "                            verbose=1\n",
    "                        )"
   ]
  },
  {
   "cell_type": "code",
   "execution_count": 23,
   "metadata": {
    "scrolled": true
   },
   "outputs": [
    {
     "name": "stdout",
     "output_type": "stream",
     "text": [
      "WARNING:tensorflow:From /Users/michael/opt/anaconda3/lib/python3.7/site-packages/keras/backend/tensorflow_backend.py:422: The name tf.global_variables is deprecated. Please use tf.compat.v1.global_variables instead.\n",
      "\n",
      "Train on 72357 samples, validate on 8040 samples\n",
      "Epoch 1/200\n",
      "72357/72357 [==============================] - 21s 289us/step - loss: 0.1107 - f1: 0.1067 - val_loss: 0.0994 - val_f1: 0.1630\n",
      "Epoch 2/200\n",
      "72357/72357 [==============================] - 20s 274us/step - loss: 0.0930 - f1: 0.1825 - val_loss: 0.0933 - val_f1: 0.2216\n",
      "Epoch 3/200\n",
      "72357/72357 [==============================] - 20s 277us/step - loss: 0.0887 - f1: 0.2289 - val_loss: 0.0902 - val_f1: 0.2363\n",
      "Epoch 4/200\n",
      "72357/72357 [==============================] - 20s 279us/step - loss: 0.0858 - f1: 0.2523 - val_loss: 0.0882 - val_f1: 0.2396\n",
      "Epoch 5/200\n",
      "72357/72357 [==============================] - 20s 281us/step - loss: 0.0841 - f1: 0.2717 - val_loss: 0.0883 - val_f1: 0.2415\n",
      "Epoch 6/200\n",
      "72357/72357 [==============================] - 20s 282us/step - loss: 0.0823 - f1: 0.3009 - val_loss: 0.0884 - val_f1: 0.2645\n",
      "Epoch 7/200\n",
      "72357/72357 [==============================] - 21s 284us/step - loss: 0.0810 - f1: 0.3153 - val_loss: 0.0869 - val_f1: 0.2929\n",
      "Epoch 8/200\n",
      "72357/72357 [==============================] - 21s 285us/step - loss: 0.0795 - f1: 0.3261 - val_loss: 0.0858 - val_f1: 0.3026\n",
      "Epoch 9/200\n",
      "72357/72357 [==============================] - 20s 283us/step - loss: 0.0783 - f1: 0.3440 - val_loss: 0.0863 - val_f1: 0.2671\n",
      "Epoch 10/200\n",
      "72357/72357 [==============================] - 21s 286us/step - loss: 0.0772 - f1: 0.3572 - val_loss: 0.0838 - val_f1: 0.3051\n",
      "Epoch 11/200\n",
      "72357/72357 [==============================] - 21s 285us/step - loss: 0.0755 - f1: 0.3670 - val_loss: 0.0859 - val_f1: 0.3029\n",
      "Epoch 12/200\n",
      "72357/72357 [==============================] - 21s 284us/step - loss: 0.0739 - f1: 0.3938 - val_loss: 0.0822 - val_f1: 0.3510\n",
      "Epoch 13/200\n",
      "72357/72357 [==============================] - 21s 284us/step - loss: 0.0729 - f1: 0.3945 - val_loss: 0.0835 - val_f1: 0.3261\n",
      "Epoch 14/200\n",
      "72357/72357 [==============================] - 20s 283us/step - loss: 0.0718 - f1: 0.4089 - val_loss: 0.0872 - val_f1: 0.3751\n",
      "Epoch 15/200\n",
      "72357/72357 [==============================] - 21s 288us/step - loss: 0.0715 - f1: 0.4264 - val_loss: 0.0819 - val_f1: 0.3688\n",
      "Epoch 16/200\n",
      "72357/72357 [==============================] - 21s 285us/step - loss: 0.0700 - f1: 0.4367 - val_loss: 0.0848 - val_f1: 0.3348\n",
      "Epoch 17/200\n",
      "72357/72357 [==============================] - 20s 283us/step - loss: 0.0686 - f1: 0.4457 - val_loss: 0.0832 - val_f1: 0.3435\n",
      "Epoch 18/200\n",
      "72357/72357 [==============================] - 21s 285us/step - loss: 0.0682 - f1: 0.4427 - val_loss: 0.0805 - val_f1: 0.3947\n",
      "Epoch 19/200\n",
      "72357/72357 [==============================] - 21s 285us/step - loss: 0.0672 - f1: 0.4630 - val_loss: 0.0837 - val_f1: 0.4102\n",
      "Epoch 20/200\n",
      "72357/72357 [==============================] - 21s 288us/step - loss: 0.0658 - f1: 0.4806 - val_loss: 0.0817 - val_f1: 0.3887\n",
      "Epoch 21/200\n",
      "72357/72357 [==============================] - 21s 291us/step - loss: 0.0652 - f1: 0.4944 - val_loss: 0.0859 - val_f1: 0.3538\n",
      "Epoch 22/200\n",
      "72357/72357 [==============================] - 21s 285us/step - loss: 0.0634 - f1: 0.4873 - val_loss: 0.0837 - val_f1: 0.4352\n",
      "Epoch 23/200\n",
      "72357/72357 [==============================] - 21s 286us/step - loss: 0.0636 - f1: 0.4971 - val_loss: 0.0804 - val_f1: 0.4068\n",
      "Epoch 24/200\n",
      "72357/72357 [==============================] - 21s 286us/step - loss: 0.0623 - f1: 0.5165 - val_loss: 0.0837 - val_f1: 0.3815\n",
      "Epoch 25/200\n",
      "72357/72357 [==============================] - 21s 286us/step - loss: 0.0608 - f1: 0.5318 - val_loss: 0.0869 - val_f1: 0.3896\n",
      "Epoch 26/200\n",
      "72357/72357 [==============================] - 21s 286us/step - loss: 0.0602 - f1: 0.5442 - val_loss: 0.0868 - val_f1: 0.4211\n",
      "Epoch 27/200\n",
      "72357/72357 [==============================] - 21s 286us/step - loss: 0.0594 - f1: 0.5499 - val_loss: 0.0871 - val_f1: 0.4244\n",
      "Epoch 28/200\n",
      "72357/72357 [==============================] - 21s 287us/step - loss: 0.0592 - f1: 0.5575 - val_loss: 0.0847 - val_f1: 0.4081\n",
      "Epoch 29/200\n",
      "72357/72357 [==============================] - 21s 286us/step - loss: 0.0584 - f1: 0.5580 - val_loss: 0.0860 - val_f1: 0.4043\n",
      "Epoch 30/200\n",
      "72357/72357 [==============================] - 21s 286us/step - loss: 0.0576 - f1: 0.5728 - val_loss: 0.0864 - val_f1: 0.4302\n",
      "Epoch 31/200\n",
      "72357/72357 [==============================] - 21s 287us/step - loss: 0.0565 - f1: 0.5641 - val_loss: 0.0875 - val_f1: 0.4336\n",
      "Epoch 32/200\n",
      "72357/72357 [==============================] - 21s 286us/step - loss: 0.0556 - f1: 0.5642 - val_loss: 0.0876 - val_f1: 0.3981\n",
      "Epoch 33/200\n",
      "72357/72357 [==============================] - 21s 287us/step - loss: 0.0548 - f1: 0.5799 - val_loss: 0.0946 - val_f1: 0.3914\n",
      "Epoch 00033: early stopping\n"
     ]
    }
   ],
   "source": [
    "history = fraud.fit(X_train2_, Y_train2, batch_size=128, epochs=200, validation_data=(X_test2_, Y_test2)\n",
    "                   , callbacks=[checkpoint_period, reduce_lr, early_stopping])"
   ]
  },
  {
   "cell_type": "code",
   "execution_count": 24,
   "metadata": {},
   "outputs": [],
   "source": [
    "fraud.save(log_dir+'last1_lenet.h5')"
   ]
  },
  {
   "cell_type": "code",
   "execution_count": 25,
   "metadata": {},
   "outputs": [
    {
     "name": "stdout",
     "output_type": "stream",
     "text": [
      "8040/8040 [==============================] - 1s 120us/step\n"
     ]
    }
   ],
   "source": [
    "score=fraud.evaluate(X_test2_, Y_test2,batch_size=128)"
   ]
  },
  {
   "cell_type": "code",
   "execution_count": 26,
   "metadata": {},
   "outputs": [],
   "source": [
    "import matplotlib.pyplot as plt"
   ]
  },
  {
   "cell_type": "code",
   "execution_count": 27,
   "metadata": {},
   "outputs": [
    {
     "name": "stdout",
     "output_type": "stream",
     "text": [
      "dict_keys(['val_loss', 'val_f1', 'loss', 'f1', 'lr'])\n"
     ]
    }
   ],
   "source": [
    "print(history.history.keys())"
   ]
  },
  {
   "cell_type": "code",
   "execution_count": 28,
   "metadata": {},
   "outputs": [
    {
     "data": {
      "image/png": "[encoded data removed]",
      "text/plain": [
       "<Figure size 432x288 with 1 Axes>"
      ]
     },
     "metadata": {
      "needs_background": "light"
     },
     "output_type": "display_data"
    },
    {
     "data": {
      "image/png": "[encoded data removed]",
      "text/plain": [
       "<Figure size 432x288 with 1 Axes>"
      ]
     },
     "metadata": {
      "needs_background": "light"
     },
     "output_type": "display_data"
    }
   ],
   "source": [
    "# summarize history for accuracy\n",
    "plt.plot(history.history['f1'])\n",
    "\n",
    "plt.plot(history.history['val_f1'])\n",
    "\n",
    "plt.title('model f1')\n",
    "\n",
    "plt.ylabel('f1')\n",
    "\n",
    "plt.xlabel('epoch')\n",
    "\n",
    "plt.legend(['train','test'], loc='upper left')\n",
    "\n",
    "plt.show()\n",
    "\n",
    "# summarize history for loss\n",
    "\n",
    "plt.plot(history.history['loss'])\n",
    "\n",
    "plt.plot(history.history['val_loss'])\n",
    "\n",
    "plt.title('model loss')\n",
    "\n",
    "plt.ylabel('loss')\n",
    "\n",
    "plt.xlabel('epoch')\n",
    "\n",
    "plt.legend(['train','test'], loc='upper left')\n",
    "plt.show()"
   ]
  },
  {
   "cell_type": "code",
   "execution_count": 29,
   "metadata": {},
   "outputs": [],
   "source": [
    "output1 = fraud.predict(X_test2_)\n",
    "output0 = fraud.predict(X_train2_)"
   ]
  },
  {
   "cell_type": "code",
   "execution_count": 30,
   "metadata": {},
   "outputs": [
    {
     "data": {
      "text/plain": [
       "0.8391076100874018"
      ]
     },
     "execution_count": 30,
     "metadata": {},
     "output_type": "execute_result"
    }
   ],
   "source": [
    "roc_auc_score(Y_test2, output1)"
   ]
  },
  {
   "cell_type": "code",
   "execution_count": 31,
   "metadata": {},
   "outputs": [
    {
     "data": {
      "text/plain": [
       "0.9406480585193825"
      ]
     },
     "execution_count": 31,
     "metadata": {},
     "output_type": "execute_result"
    }
   ],
   "source": [
    "roc_auc_score(Y_train2, output0)"
   ]
  },
  {
   "cell_type": "code",
   "execution_count": 32,
   "metadata": {},
   "outputs": [],
   "source": [
    "output = fraud.predict(X_test_filter_fill.reshape(X_test_filter_fill.shape[0], X_test_filter_fill.shape[1], 1))"
   ]
  },
  {
   "cell_type": "code",
   "execution_count": 33,
   "metadata": {},
   "outputs": [
    {
     "data": {
      "text/plain": [
       "array([[8.30590725e-05],\n",
       "       [2.23749876e-03],\n",
       "       [1.81826949e-03],\n",
       "       ...,\n",
       "       [1.07079744e-04],\n",
       "       [1.39832497e-02],\n",
       "       [5.28136194e-02]], dtype=float32)"
      ]
     },
     "execution_count": 33,
     "metadata": {},
     "output_type": "execute_result"
    }
   ],
   "source": [
    "output"
   ]
  },
  {
   "cell_type": "code",
   "execution_count": 34,
   "metadata": {},
   "outputs": [],
   "source": [
    "newsample_submission = pd.read_csv('newsample_submission.csv', index_col = 'TransactionID')"
   ]
  },
  {
   "cell_type": "code",
   "execution_count": 35,
   "metadata": {},
   "outputs": [],
   "source": [
    "newsample_submission['isFraud'] = output\n",
    "newsample_submission.to_csv('newsample_submission_lenet.csv')"
   ]
  },
  {
   "cell_type": "code",
   "execution_count": 36,
   "metadata": {},
   "outputs": [],
   "source": [
    "from sklearn.metrics import roc_auc_score\n",
    "from sklearn.metrics import precision_recall_fscore_support\n",
    "from sklearn.metrics import accuracy_score"
   ]
  },
  {
   "cell_type": "code",
   "execution_count": 37,
   "metadata": {},
   "outputs": [],
   "source": [
    "import math\n",
    "results = []\n",
    "threshold_options = list(np.arange (0.01, 0.16, 0.01))\n",
    "\n",
    "for threshold in threshold_options:\n",
    "    pred = [math.ceil(x) if x > threshold else 0 for x in output1]\n",
    "    acc_lenet = accuracy_score(Y_test2, pred) # accuracy\n",
    "    auroc_lenet = roc_auc_score(Y_test2, pred) # auroc\n",
    "\n",
    "    results.append([threshold, acc_lenet, auroc_lenet])"
   ]
  },
  {
   "cell_type": "code",
   "execution_count": 38,
   "metadata": {},
   "outputs": [
    {
     "data": {
      "text/plain": [
       "(0.974502487562189, 0.7189194455269164)"
      ]
     },
     "execution_count": 38,
     "metadata": {},
     "output_type": "execute_result"
    }
   ],
   "source": [
    "acc_lenet,auroc_lenet"
   ]
  },
  {
   "cell_type": "code",
   "execution_count": 39,
   "metadata": {},
   "outputs": [
    {
     "data": {
      "text/plain": [
       "(array([0.98384018, 0.56906077]),\n",
       " array([0.9900128 , 0.44782609]),\n",
       " array([0.98691684, 0.50121655]),\n",
       " array([7810,  230]))"
      ]
     },
     "execution_count": 39,
     "metadata": {},
     "output_type": "execute_result"
    }
   ],
   "source": [
    "precision_recall_fscore_support(Y_test2, pred, average=None)"
   ]
  },
  {
   "cell_type": "code",
   "execution_count": 40,
   "metadata": {},
   "outputs": [
    {
     "data": {
      "text/plain": [
       "<Figure size 3600x2400 with 0 Axes>"
      ]
     },
     "metadata": {},
     "output_type": "display_data"
    },
    {
     "data": {
      "image/png": "[encoded data removed]",
      "text/plain": [
       "<Figure size 720x720 with 1 Axes>"
      ]
     },
     "metadata": {
      "needs_background": "light"
     },
     "output_type": "display_data"
    }
   ],
   "source": [
    "import matplotlib.pyplot as plt\n",
    "from sklearn.metrics import roc_curve, auc\n",
    "\n",
    "# Compute ROC curve and ROC area for each class\n",
    "fpr,tpr,threshold = roc_curve(Y_test2, pred) # calculate false positive and true positive\n",
    "roc_auc = auc(fpr,tpr) # auc\n",
    "\n",
    "\n",
    "plt.figure(dpi=600)\n",
    "lw = 2\n",
    "plt.figure(figsize=(10,10))\n",
    "plt.plot(fpr, tpr, color='darkorange',\n",
    "         lw=lw, label='ROC curve (area = %0.2f)' % roc_auc) \n",
    "plt.plot([0, 1], [0, 1], color='navy', lw=lw, linestyle='--')\n",
    "plt.xlim([0.0, 1.0])\n",
    "plt.ylim([0.0, 1.05])\n",
    "plt.xlabel('False Positive Rate')\n",
    "plt.ylabel('True Positive Rate')\n",
    "plt.title('Receiver operating characteristic example')\n",
    "plt.legend(loc=\"lower right\")\n",
    "\n",
    "plt.savefig('lenet_600.png', dpi=600)\n",
    "plt.savefig('lenet_150.png', dpi=150)"
   ]
  },
  {
   "cell_type": "markdown",
   "metadata": {},
   "source": [
    "# AlexNet"
   ]
  },
  {
   "cell_type": "code",
   "execution_count": 41,
   "metadata": {},
   "outputs": [],
   "source": [
    "def alexnet_1D(length):\n",
    "    inputs = Input((length, 1))\n",
    "    x = Conv1D(64, 7, strides = 2, padding = 'same')(inputs)\n",
    "    x = Conv1D(96, 11,strides = 4, padding = 'same')(x)\n",
    "    x = Activation('relu')(x)\n",
    "    x = BatchNormalization()(x)\n",
    "    x = MaxPooling1D()(x)\n",
    "    x = Dropout(0.25)(x)\n",
    "    \n",
    "    x = Conv1D(256, 5,strides = 4, padding = 'same')(x)\n",
    "    x = Activation('relu')(x)\n",
    "    x = BatchNormalization()(x)\n",
    "    x = MaxPooling1D()(x)\n",
    "    x = Dropout(0.25)(x)\n",
    "    \n",
    "    x = Conv1D(384, 3,strides = 4, padding = 'same')(x)\n",
    "    x = Activation('relu')(x)\n",
    "    x = BatchNormalization()(x)\n",
    "    x = Conv1D(384, 3,strides = 4, padding = 'same')(x)\n",
    "    x = Activation('relu')(x)\n",
    "    x = BatchNormalization()(x)\n",
    "    x = Conv1D(256, 3,strides = 4, padding = 'same')(x)\n",
    "    #x = MaxPooling1D()(x)\n",
    "    x = Dropout(0.25)(x)\n",
    "    \n",
    "    x = Flatten()(x)\n",
    "    x = Dense(4096)(x)\n",
    "    x = Activation('relu')(x)\n",
    "    x = BatchNormalization()(x)\n",
    "    x = Dropout(0.25)(x)\n",
    "    \n",
    "    x = Dense(4096)(x)\n",
    "    x = Activation('relu')(x)\n",
    "    x = BatchNormalization()(x)\n",
    "    x = Dropout(0.25)(x)\n",
    "    \n",
    "    x = Dense(1)(x)\n",
    "    x = Activation('sigmoid')(x)\n",
    "    \n",
    "    model = models.Model(inputs = inputs, outputs = x)\n",
    "    \n",
    "    return model"
   ]
  },
  {
   "cell_type": "code",
   "execution_count": 42,
   "metadata": {},
   "outputs": [],
   "source": [
    "fraud_2 = alexnet_1D(X_train2.shape[-1])"
   ]
  },
  {
   "cell_type": "code",
   "execution_count": 43,
   "metadata": {},
   "outputs": [],
   "source": [
    "from keras import optimizers\n",
    "sgd = optimizers.SGD(lr=.1, momentum=0.9, nesterov=True)\n",
    "fraud_2.compile(loss='binary_crossentropy', optimizer=sgd, metrics=[f1])"
   ]
  },
  {
   "cell_type": "code",
   "execution_count": 44,
   "metadata": {
    "scrolled": true
   },
   "outputs": [
    {
     "name": "stdout",
     "output_type": "stream",
     "text": [
      "Model: \"model_2\"\n",
      "_________________________________________________________________\n",
      "Layer (type)                 Output Shape              Param #   \n",
      "=================================================================\n",
      "input_2 (InputLayer)         (None, 225, 1)            0         \n",
      "_________________________________________________________________\n",
      "conv1d_3 (Conv1D)            (None, 113, 64)           512       \n",
      "_________________________________________________________________\n",
      "conv1d_4 (Conv1D)            (None, 29, 96)            67680     \n",
      "_________________________________________________________________\n",
      "activation_1 (Activation)    (None, 29, 96)            0         \n",
      "_________________________________________________________________\n",
      "batch_normalization_1 (Batch (None, 29, 96)            384       \n",
      "_________________________________________________________________\n",
      "max_pooling1d_3 (MaxPooling1 (None, 14, 96)            0         \n",
      "_________________________________________________________________\n",
      "dropout_1 (Dropout)          (None, 14, 96)            0         \n",
      "_________________________________________________________________\n",
      "conv1d_5 (Conv1D)            (None, 4, 256)            123136    \n",
      "_________________________________________________________________\n",
      "activation_2 (Activation)    (None, 4, 256)            0         \n",
      "_________________________________________________________________\n",
      "batch_normalization_2 (Batch (None, 4, 256)            1024      \n",
      "_________________________________________________________________\n",
      "max_pooling1d_4 (MaxPooling1 (None, 2, 256)            0         \n",
      "_________________________________________________________________\n",
      "dropout_2 (Dropout)          (None, 2, 256)            0         \n",
      "_________________________________________________________________\n",
      "conv1d_6 (Conv1D)            (None, 1, 384)            295296    \n",
      "_________________________________________________________________\n",
      "activation_3 (Activation)    (None, 1, 384)            0         \n",
      "_________________________________________________________________\n",
      "batch_normalization_3 (Batch (None, 1, 384)            1536      \n",
      "_________________________________________________________________\n",
      "conv1d_7 (Conv1D)            (None, 1, 384)            442752    \n",
      "_________________________________________________________________\n",
      "activation_4 (Activation)    (None, 1, 384)            0         \n",
      "_________________________________________________________________\n",
      "batch_normalization_4 (Batch (None, 1, 384)            1536      \n",
      "_________________________________________________________________\n",
      "conv1d_8 (Conv1D)            (None, 1, 256)            295168    \n",
      "_________________________________________________________________\n",
      "dropout_3 (Dropout)          (None, 1, 256)            0         \n",
      "_________________________________________________________________\n",
      "flatten_2 (Flatten)          (None, 256)               0         \n",
      "_________________________________________________________________\n",
      "dense_4 (Dense)              (None, 4096)              1052672   \n",
      "_________________________________________________________________\n",
      "activation_5 (Activation)    (None, 4096)              0         \n",
      "_________________________________________________________________\n",
      "batch_normalization_5 (Batch (None, 4096)              16384     \n",
      "_________________________________________________________________\n",
      "dropout_4 (Dropout)          (None, 4096)              0         \n",
      "_________________________________________________________________\n",
      "dense_5 (Dense)              (None, 4096)              16781312  \n",
      "_________________________________________________________________\n",
      "activation_6 (Activation)    (None, 4096)              0         \n",
      "_________________________________________________________________\n",
      "batch_normalization_6 (Batch (None, 4096)              16384     \n",
      "_________________________________________________________________\n",
      "dropout_5 (Dropout)          (None, 4096)              0         \n",
      "_________________________________________________________________\n",
      "dense_6 (Dense)              (None, 1)                 4097      \n",
      "_________________________________________________________________\n",
      "activation_7 (Activation)    (None, 1)                 0         \n",
      "=================================================================\n",
      "Total params: 19,099,873\n",
      "Trainable params: 19,081,249\n",
      "Non-trainable params: 18,624\n",
      "_________________________________________________________________\n"
     ]
    }
   ],
   "source": [
    "fraud_2.summary()"
   ]
  },
  {
   "cell_type": "code",
   "execution_count": 45,
   "metadata": {},
   "outputs": [
    {
     "data": {
      "text/plain": [
       "array([0, 0, 0, ..., 0, 0, 0])"
      ]
     },
     "execution_count": 45,
     "metadata": {},
     "output_type": "execute_result"
    }
   ],
   "source": [
    "Y_train2.values"
   ]
  },
  {
   "cell_type": "code",
   "execution_count": 46,
   "metadata": {
    "scrolled": true
   },
   "outputs": [
    {
     "name": "stdout",
     "output_type": "stream",
     "text": [
      "Train on 72357 samples, validate on 8040 samples\n",
      "Epoch 1/200\n",
      "72357/72357 [==============================] - 194s 3ms/step - loss: 0.2111 - f1: 0.1029 - val_loss: 0.1369 - val_f1: 0.2284\n",
      "Epoch 2/200\n",
      "72357/72357 [==============================] - 192s 3ms/step - loss: 0.1181 - f1: 0.1665 - val_loss: 0.1131 - val_f1: 0.1953\n",
      "Epoch 3/200\n",
      "72357/72357 [==============================] - 196s 3ms/step - loss: 0.1105 - f1: 0.1943 - val_loss: 0.1002 - val_f1: 0.1692\n",
      "Epoch 4/200\n",
      "72357/72357 [==============================] - 195s 3ms/step - loss: 0.1079 - f1: 0.2288 - val_loss: 0.1051 - val_f1: 0.1663\n",
      "Epoch 5/200\n",
      "72357/72357 [==============================] - 195s 3ms/step - loss: 0.1020 - f1: 0.2228 - val_loss: 0.1022 - val_f1: 0.2477\n",
      "Epoch 6/200\n",
      "72357/72357 [==============================] - 200s 3ms/step - loss: 0.0971 - f1: 0.2431 - val_loss: 0.0952 - val_f1: 0.2026\n",
      "Epoch 7/200\n",
      "72357/72357 [==============================] - 205s 3ms/step - loss: 0.0996 - f1: 0.2443 - val_loss: 0.0994 - val_f1: 0.2026\n",
      "Epoch 8/200\n",
      "72357/72357 [==============================] - 197s 3ms/step - loss: 0.0951 - f1: 0.2564 - val_loss: 0.0904 - val_f1: 0.2415\n",
      "Epoch 9/200\n",
      "72357/72357 [==============================] - 197s 3ms/step - loss: 0.0935 - f1: 0.2717 - val_loss: 0.0946 - val_f1: 0.2981\n",
      "Epoch 10/200\n",
      "72357/72357 [==============================] - 200s 3ms/step - loss: 0.0915 - f1: 0.2802 - val_loss: 0.0893 - val_f1: 0.2704\n",
      "Epoch 11/200\n",
      "72357/72357 [==============================] - 202s 3ms/step - loss: 0.0917 - f1: 0.3061 - val_loss: 0.0907 - val_f1: 0.3611\n",
      "Epoch 12/200\n",
      "72357/72357 [==============================] - 206s 3ms/step - loss: 0.0873 - f1: 0.3266 - val_loss: 0.0875 - val_f1: 0.3249\n",
      "Epoch 13/200\n",
      "72357/72357 [==============================] - 205s 3ms/step - loss: 0.0874 - f1: 0.3291 - val_loss: 0.0921 - val_f1: 0.2312\n",
      "Epoch 14/200\n",
      "72357/72357 [==============================] - 207s 3ms/step - loss: 0.0868 - f1: 0.3205 - val_loss: 0.0928 - val_f1: 0.2922\n",
      "Epoch 15/200\n",
      "72357/72357 [==============================] - 201s 3ms/step - loss: 0.0834 - f1: 0.3323 - val_loss: 0.0917 - val_f1: 0.3061\n",
      "Epoch 16/200\n",
      "72357/72357 [==============================] - 200s 3ms/step - loss: 0.0830 - f1: 0.3540 - val_loss: 0.0887 - val_f1: 0.3412\n",
      "Epoch 17/200\n",
      "72357/72357 [==============================] - 203s 3ms/step - loss: 0.0814 - f1: 0.3712 - val_loss: 0.0840 - val_f1: 0.3253\n",
      "Epoch 18/200\n",
      "72357/72357 [==============================] - 199s 3ms/step - loss: 0.0786 - f1: 0.3814 - val_loss: 0.0900 - val_f1: 0.3101\n",
      "Epoch 19/200\n",
      "72357/72357 [==============================] - 199s 3ms/step - loss: 0.0809 - f1: 0.3675 - val_loss: 0.0875 - val_f1: 0.3332\n",
      "Epoch 20/200\n",
      "72357/72357 [==============================] - 199s 3ms/step - loss: 0.0801 - f1: 0.3806 - val_loss: 0.0863 - val_f1: 0.3880\n",
      "Epoch 21/200\n",
      "72357/72357 [==============================] - 198s 3ms/step - loss: 0.0798 - f1: 0.3890 - val_loss: 0.0875 - val_f1: 0.3554\n",
      "Epoch 22/200\n",
      "72357/72357 [==============================] - 198s 3ms/step - loss: 0.0777 - f1: 0.3919 - val_loss: 0.0868 - val_f1: 0.3452\n",
      "Epoch 23/200\n",
      "72357/72357 [==============================] - 194s 3ms/step - loss: 0.0756 - f1: 0.4337 - val_loss: 0.0841 - val_f1: 0.4147\n",
      "Epoch 24/200\n",
      "72357/72357 [==============================] - 195s 3ms/step - loss: 0.0750 - f1: 0.4212 - val_loss: 0.0836 - val_f1: 0.4154\n",
      "Epoch 25/200\n",
      "72357/72357 [==============================] - 194s 3ms/step - loss: 0.0746 - f1: 0.4345 - val_loss: 0.0920 - val_f1: 0.3337\n",
      "Epoch 26/200\n",
      "72357/72357 [==============================] - 194s 3ms/step - loss: 0.0751 - f1: 0.4441 - val_loss: 0.0840 - val_f1: 0.4381\n",
      "Epoch 27/200\n",
      "72357/72357 [==============================] - 194s 3ms/step - loss: 0.0744 - f1: 0.4279 - val_loss: 0.0893 - val_f1: 0.4796\n",
      "Epoch 28/200\n",
      "72357/72357 [==============================] - 193s 3ms/step - loss: 0.0731 - f1: 0.4534 - val_loss: 0.0870 - val_f1: 0.4037\n",
      "Epoch 29/200\n",
      "72357/72357 [==============================] - 193s 3ms/step - loss: 0.0723 - f1: 0.4437 - val_loss: 0.0813 - val_f1: 0.4291\n",
      "Epoch 30/200\n",
      "72357/72357 [==============================] - 194s 3ms/step - loss: 0.0709 - f1: 0.4713 - val_loss: 0.0858 - val_f1: 0.4297\n",
      "Epoch 31/200\n",
      "72357/72357 [==============================] - 193s 3ms/step - loss: 0.0701 - f1: 0.4822 - val_loss: 0.0816 - val_f1: 0.4026\n",
      "Epoch 32/200\n",
      "72357/72357 [==============================] - 193s 3ms/step - loss: 0.0702 - f1: 0.4582 - val_loss: 0.0793 - val_f1: 0.4485\n",
      "Epoch 33/200\n",
      "72357/72357 [==============================] - 193s 3ms/step - loss: 0.0678 - f1: 0.5031 - val_loss: 0.0781 - val_f1: 0.4773\n",
      "Epoch 34/200\n",
      "72357/72357 [==============================] - 193s 3ms/step - loss: 0.0675 - f1: 0.5037 - val_loss: 0.0797 - val_f1: 0.4605\n",
      "Epoch 35/200\n",
      "72357/72357 [==============================] - 193s 3ms/step - loss: 0.0694 - f1: 0.4821 - val_loss: 0.0884 - val_f1: 0.3783\n",
      "Epoch 36/200\n",
      "72357/72357 [==============================] - 193s 3ms/step - loss: 0.0704 - f1: 0.4791 - val_loss: 0.0801 - val_f1: 0.4681\n",
      "Epoch 37/200\n",
      "72357/72357 [==============================] - 193s 3ms/step - loss: 0.0687 - f1: 0.4882 - val_loss: 0.0774 - val_f1: 0.4460\n",
      "Epoch 38/200\n",
      "72357/72357 [==============================] - 193s 3ms/step - loss: 0.0672 - f1: 0.4943 - val_loss: 0.0816 - val_f1: 0.4459\n",
      "Epoch 39/200\n",
      "72357/72357 [==============================] - 193s 3ms/step - loss: 0.0667 - f1: 0.4997 - val_loss: 0.0809 - val_f1: 0.4342\n",
      "Epoch 40/200\n",
      "72357/72357 [==============================] - 193s 3ms/step - loss: 0.0663 - f1: 0.4770 - val_loss: 0.0832 - val_f1: 0.4080\n",
      "Epoch 41/200\n",
      "72357/72357 [==============================] - 193s 3ms/step - loss: 0.0664 - f1: 0.5007 - val_loss: 0.0817 - val_f1: 0.4461\n",
      "Epoch 42/200\n",
      "72357/72357 [==============================] - 192s 3ms/step - loss: 0.0657 - f1: 0.5044 - val_loss: 0.0869 - val_f1: 0.4281\n",
      "Epoch 43/200\n",
      "72357/72357 [==============================] - 193s 3ms/step - loss: 0.0643 - f1: 0.5198 - val_loss: 0.0839 - val_f1: 0.4612\n",
      "Epoch 44/200\n",
      "72357/72357 [==============================] - 193s 3ms/step - loss: 0.0647 - f1: 0.5124 - val_loss: 0.0830 - val_f1: 0.4740\n",
      "Epoch 45/200\n",
      "72357/72357 [==============================] - 193s 3ms/step - loss: 0.0621 - f1: 0.5303 - val_loss: 0.0824 - val_f1: 0.4921\n",
      "Epoch 46/200\n",
      "72357/72357 [==============================] - 193s 3ms/step - loss: 0.0632 - f1: 0.5190 - val_loss: 0.0770 - val_f1: 0.4877\n",
      "Epoch 47/200\n",
      "72357/72357 [==============================] - 193s 3ms/step - loss: 0.0625 - f1: 0.5316 - val_loss: 0.0810 - val_f1: 0.4643\n",
      "Epoch 48/200\n",
      "72357/72357 [==============================] - 193s 3ms/step - loss: 0.0622 - f1: 0.5396 - val_loss: 0.0857 - val_f1: 0.4287\n",
      "Epoch 49/200\n",
      "72357/72357 [==============================] - 193s 3ms/step - loss: 0.0615 - f1: 0.5336 - val_loss: 0.0792 - val_f1: 0.4831\n",
      "Epoch 50/200\n",
      "72357/72357 [==============================] - 193s 3ms/step - loss: 0.0610 - f1: 0.5441 - val_loss: 0.0808 - val_f1: 0.5073\n",
      "Epoch 51/200\n",
      "72357/72357 [==============================] - 193s 3ms/step - loss: 0.0603 - f1: 0.5526 - val_loss: 0.0787 - val_f1: 0.5011\n",
      "Epoch 52/200\n",
      "72357/72357 [==============================] - 193s 3ms/step - loss: 0.0589 - f1: 0.5702 - val_loss: 0.0812 - val_f1: 0.4782\n",
      "Epoch 53/200\n",
      "72357/72357 [==============================] - 192s 3ms/step - loss: 0.0604 - f1: 0.5464 - val_loss: 0.0809 - val_f1: 0.4906\n",
      "Epoch 54/200\n",
      "72357/72357 [==============================] - 192s 3ms/step - loss: 0.0595 - f1: 0.5627 - val_loss: 0.0809 - val_f1: 0.4861\n",
      "Epoch 55/200\n",
      "72357/72357 [==============================] - 192s 3ms/step - loss: 0.0593 - f1: 0.5769 - val_loss: 0.0801 - val_f1: 0.5000\n",
      "Epoch 56/200\n",
      "72357/72357 [==============================] - 192s 3ms/step - loss: 0.0639 - f1: 0.5373 - val_loss: 0.0813 - val_f1: 0.4579\n",
      "Epoch 00056: early stopping\n"
     ]
    }
   ],
   "source": [
    "history_2 = fraud_2.fit(X_train2_, Y_train2, batch_size=128, epochs=200, validation_data=(X_test2_, Y_test2)\n",
    "                   , callbacks=[checkpoint_period, reduce_lr, early_stopping])"
   ]
  },
  {
   "cell_type": "code",
   "execution_count": 47,
   "metadata": {},
   "outputs": [],
   "source": [
    "fraud_2.save(log_dir+'last2_alexnet.h5')"
   ]
  },
  {
   "cell_type": "code",
   "execution_count": 48,
   "metadata": {},
   "outputs": [
    {
     "name": "stdout",
     "output_type": "stream",
     "text": [
      "8040/8040 [==============================] - 6s 743us/step\n"
     ]
    }
   ],
   "source": [
    "score_2=fraud_2.evaluate(X_test2_, Y_test2,batch_size=128)"
   ]
  },
  {
   "cell_type": "code",
   "execution_count": 51,
   "metadata": {},
   "outputs": [
    {
     "name": "stdout",
     "output_type": "stream",
     "text": [
      "dict_keys(['val_loss', 'val_f1', 'loss', 'f1', 'lr'])\n"
     ]
    }
   ],
   "source": [
    "print(history_2.history.keys())"
   ]
  },
  {
   "cell_type": "code",
   "execution_count": 52,
   "metadata": {},
   "outputs": [
    {
     "data": {
      "image/png": "[encoded data removed]",
      "text/plain": [
       "<Figure size 432x288 with 1 Axes>"
      ]
     },
     "metadata": {
      "needs_background": "light"
     },
     "output_type": "display_data"
    },
    {
     "data": {
      "image/png": "[encoded data removed]",
      "text/plain": [
       "<Figure size 432x288 with 1 Axes>"
      ]
     },
     "metadata": {
      "needs_background": "light"
     },
     "output_type": "display_data"
    }
   ],
   "source": [
    "# summarize history for accuracy\n",
    "plt.plot(history_2.history['f1'])\n",
    "\n",
    "plt.plot(history_2.history['val_f1'])\n",
    "\n",
    "plt.title('model f1')\n",
    "\n",
    "plt.ylabel('f1')\n",
    "\n",
    "plt.xlabel('epoch')\n",
    "\n",
    "plt.legend(['train','test'], loc='upper left')\n",
    "\n",
    "plt.show()\n",
    "\n",
    "# summarize history for loss\n",
    "\n",
    "plt.plot(history_2.history['loss'])\n",
    "\n",
    "plt.plot(history_2.history['val_loss'])\n",
    "\n",
    "plt.title('model loss')\n",
    "\n",
    "plt.ylabel('loss')\n",
    "\n",
    "plt.xlabel('epoch')\n",
    "\n",
    "plt.legend(['train','test'], loc='upper left')\n",
    "plt.show()"
   ]
  },
  {
   "cell_type": "code",
   "execution_count": 54,
   "metadata": {},
   "outputs": [],
   "source": [
    "output1_alex = fraud_2.predict(X_test2_)\n",
    "output0_alex = fraud_2.predict(X_train2_)"
   ]
  },
  {
   "cell_type": "code",
   "execution_count": 55,
   "metadata": {},
   "outputs": [
    {
     "data": {
      "text/plain": [
       "0.8886778377776541"
      ]
     },
     "execution_count": 55,
     "metadata": {},
     "output_type": "execute_result"
    }
   ],
   "source": [
    "roc_auc_score(Y_test2, output1_alex)"
   ]
  },
  {
   "cell_type": "code",
   "execution_count": 56,
   "metadata": {},
   "outputs": [
    {
     "data": {
      "text/plain": [
       "0.9489365548004202"
      ]
     },
     "execution_count": 56,
     "metadata": {},
     "output_type": "execute_result"
    }
   ],
   "source": [
    "roc_auc_score(Y_train2, output0_alex)"
   ]
  },
  {
   "cell_type": "code",
   "execution_count": 57,
   "metadata": {},
   "outputs": [],
   "source": [
    "output_alex = fraud_2.predict(X_test_filter_fill.reshape(X_test_filter_fill.shape[0], X_test_filter_fill.shape[1], 1))"
   ]
  },
  {
   "cell_type": "code",
   "execution_count": 58,
   "metadata": {},
   "outputs": [
    {
     "data": {
      "text/plain": [
       "array([[0.0029954 ],\n",
       "       [0.00018367],\n",
       "       [0.00020289],\n",
       "       ...,\n",
       "       [0.00258699],\n",
       "       [0.00379497],\n",
       "       [0.01357281]], dtype=float32)"
      ]
     },
     "execution_count": 58,
     "metadata": {},
     "output_type": "execute_result"
    }
   ],
   "source": [
    "output_alex"
   ]
  },
  {
   "cell_type": "code",
   "execution_count": 63,
   "metadata": {},
   "outputs": [],
   "source": [
    "from sklearn.metrics import roc_auc_score\n",
    "from sklearn.metrics import precision_recall_fscore_support\n",
    "from sklearn.metrics import accuracy_score\n",
    "import math\n",
    "results = []\n",
    "threshold_options = list(np.arange (0.01, 0.16, 0.01))\n",
    "\n",
    "for threshold in threshold_options:\n",
    "    pred_alex = [math.ceil(x) if x > threshold else 0 for x in output1_alex]\n",
    "    acc_alexnet = accuracy_score(Y_test2, pred_alex) # accuracy\n",
    "    auroc_alexnet = roc_auc_score(Y_test2, pred_alex) # auroc\n",
    "\n",
    "    results.append([threshold, acc_alexnet, auroc_alexnet])"
   ]
  },
  {
   "cell_type": "code",
   "execution_count": 64,
   "metadata": {},
   "outputs": [
    {
     "data": {
      "text/plain": [
       "(0.9807213930348259, 0.7326699326393141)"
      ]
     },
     "execution_count": 64,
     "metadata": {},
     "output_type": "execute_result"
    }
   ],
   "source": [
    "acc_alexnet,auroc_alexnet"
   ]
  },
  {
   "cell_type": "code",
   "execution_count": 65,
   "metadata": {},
   "outputs": [
    {
     "data": {
      "text/plain": [
       "(array([0.98455501, 0.76595745]),\n",
       " array([0.99577465, 0.46956522]),\n",
       " array([0.99013304, 0.58221024]),\n",
       " array([7810,  230]))"
      ]
     },
     "execution_count": 65,
     "metadata": {},
     "output_type": "execute_result"
    }
   ],
   "source": [
    "precision_recall_fscore_support(Y_test2, pred_alex, average=None)"
   ]
  },
  {
   "cell_type": "code",
   "execution_count": 69,
   "metadata": {},
   "outputs": [
    {
     "data": {
      "text/plain": [
       "<matplotlib.legend.Legend at 0x7fed94e7bed0>"
      ]
     },
     "execution_count": 69,
     "metadata": {},
     "output_type": "execute_result"
    },
    {
     "data": {
      "text/plain": [
       "<Figure size 3600x2400 with 0 Axes>"
      ]
     },
     "metadata": {},
     "output_type": "display_data"
    },
    {
     "data": {
      "image/png": "[encoded data removed]",
      "text/plain": [
       "<Figure size 720x720 with 1 Axes>"
      ]
     },
     "metadata": {
      "needs_background": "light"
     },
     "output_type": "display_data"
    }
   ],
   "source": [
    "import matplotlib.pyplot as plt\n",
    "from sklearn.metrics import roc_curve, auc\n",
    "\n",
    "# Compute ROC curve and ROC area for each class\n",
    "fpr_alex,tpr_alex,threshold_alex = roc_curve(Y_test2, pred_alex) # calculate false positive and true positive\n",
    "roc_auc_alex = auc(fpr_alex,tpr_alex) # auc\n",
    "\n",
    "\n",
    "plt.figure(dpi=600)\n",
    "lw = 2\n",
    "plt.figure(figsize=(10,10))\n",
    "plt.plot(fpr_alex, tpr_alex, color='darkorange',\n",
    "         lw=lw, label='ROC curve (area = %0.2f)' % roc_auc_alex) \n",
    "plt.plot([0, 1], [0, 1], color='navy', lw=lw, linestyle='--')\n",
    "plt.xlim([0.0, 1.0])\n",
    "plt.ylim([0.0, 1.05])\n",
    "plt.xlabel('False Positive Rate')\n",
    "plt.ylabel('True Positive Rate')\n",
    "plt.title('Receiver operating characteristic example')\n",
    "plt.legend(loc=\"lower right\")"
   ]
  },
  {
   "cell_type": "code",
   "execution_count": 71,
   "metadata": {},
   "outputs": [
    {
     "data": {
      "text/plain": [
       "<matplotlib.legend.Legend at 0x7fed950c9d50>"
      ]
     },
     "execution_count": 71,
     "metadata": {},
     "output_type": "execute_result"
    },
    {
     "data": {
      "text/plain": [
       "<Figure size 3600x2400 with 0 Axes>"
      ]
     },
     "metadata": {},
     "output_type": "display_data"
    },
    {
     "data": {
      "image/png": "[encoded data removed]",
      "text/plain": [
       "<Figure size 720x720 with 1 Axes>"
      ]
     },
     "metadata": {
      "needs_background": "light"
     },
     "output_type": "display_data"
    }
   ],
   "source": [
    "# Compute ROC curve and ROC area for each class\n",
    "\n",
    "plt.figure(dpi=600)\n",
    "lw = 2\n",
    "plt.figure(figsize=(10,10))\n",
    "plt.plot(fpr, tpr, color='darkorange',\n",
    "         lw=lw, label='LeNet-5 ROC (area = %0.2f)' % roc_auc) \n",
    "plt.plot(fpr_alex, tpr_alex, color='b',\n",
    "         lw=lw, label='AlexNet ROC (area = %0.2f)' % roc_auc_alex) \n",
    "\n",
    "plt.plot([0, 1], [0, 1], color='navy', lw=lw, linestyle='--')\n",
    "plt.xlim([0.0, 1.0])\n",
    "plt.ylim([0.0, 1.05])\n",
    "plt.xlabel('False Positive Rate')\n",
    "plt.ylabel('True Positive Rate')\n",
    "#plt.title('Receiver operating characteristic example')\n",
    "plt.legend(loc=\"lower right\")\n",
    "\n",
    "#plt.savefig('ROC_600.png', dpi=600)\n",
    "#plt.savefig('ROC_150.png', dpi=150)"
   ]
  },
  {
   "cell_type": "code",
   "execution_count": 86,
   "metadata": {},
   "outputs": [],
   "source": [
    "#fpr_res,tpr_res,threshold_res = roc_curve(y_test, y_predict_res) # calculate false positive and true positive\n",
    "fpr_res = ([0.        , 0.02422535, 1.        ])\n",
    "tpr_res = ([0.        , 0.78956522, 1.        ])\n",
    "roc_auc_res = auc(fpr_res,tpr_res) # auc"
   ]
  },
  {
   "cell_type": "code",
   "execution_count": 88,
   "metadata": {},
   "outputs": [
    {
     "data": {
      "text/plain": [
       "<Figure size 3600x2400 with 0 Axes>"
      ]
     },
     "metadata": {},
     "output_type": "display_data"
    },
    {
     "data": {
      "image/png": "[encoded data removed]",
      "text/plain": [
       "<Figure size 720x720 with 1 Axes>"
      ]
     },
     "metadata": {
      "needs_background": "light"
     },
     "output_type": "display_data"
    }
   ],
   "source": [
    "# Compute ROC curve and ROC area for each class\n",
    "\n",
    "plt.figure(dpi=600)\n",
    "lw = 2\n",
    "plt.figure(figsize=(10,10))\n",
    "plt.plot(fpr, tpr, color='darkorange',\n",
    "         lw=lw, label='LeNet-5 ROC (area = %0.2f)' % roc_auc) \n",
    "plt.plot(fpr_alex, tpr_alex, color='b',\n",
    "         lw=lw, label='AlexNet ROC (area = %0.2f)' % roc_auc_alex) \n",
    "plt.plot(fpr_res, tpr_res, color='r',\n",
    "         lw=lw, label='ResNet ROC (area = %0.2f)' % roc_auc_res) \n",
    "\n",
    "plt.plot([0, 1], [0, 1], color='navy', lw=lw, linestyle='--')\n",
    "plt.xlim([0.0, 1.0])\n",
    "plt.ylim([0.0, 1.05])\n",
    "plt.xlabel('False Positive Rate')\n",
    "plt.ylabel('True Positive Rate')\n",
    "#plt.title('Receiver operating characteristic example')\n",
    "plt.legend(loc=\"lower right\")\n",
    "\n",
    "plt.savefig('DEEP_ROC_600.png', dpi=600)\n",
    "plt.savefig('DEEP_ROC_150.png', dpi=150)"
   ]
  },
  {
   "cell_type": "code",
   "execution_count": null,
   "metadata": {},
   "outputs": [],
   "source": []
  }
 ],
 "metadata": {
  "kernelspec": {
   "display_name": "Python 3",
   "language": "python",
   "name": "python3"
  },
  "language_info": {
   "codemirror_mode": {
    "name": "ipython",
    "version": 3
   },
   "file_extension": ".py",
   "mimetype": "text/x-python",
   "name": "python",
   "nbconvert_exporter": "python",
   "pygments_lexer": "ipython3",
   "version": "3.7.6"
  },
  "toc": {
   "base_numbering": 1,
   "nav_menu": {},
   "number_sections": true,
   "sideBar": true,
   "skip_h1_title": false,
   "title_cell": "Table of Contents",
   "title_sidebar": "Contents",
   "toc_cell": false,
   "toc_position": {},
   "toc_section_display": true,
   "toc_window_display": false
  }
 },
 "nbformat": 4,
 "nbformat_minor": 4
}
