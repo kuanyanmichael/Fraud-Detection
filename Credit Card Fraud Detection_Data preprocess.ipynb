{
 "cells": [
  {
   "cell_type": "code",
   "execution_count": 1,
   "metadata": {},
   "outputs": [],
   "source": [
    "import os\n",
    "import numpy as np\n",
    "import pandas as pd\n",
    "from sklearn import preprocessing\n",
    "from sklearn.metrics import roc_auc_score\n",
    "from sklearn.metrics import precision_recall_fscore_support\n",
    "from sklearn.metrics import accuracy_score\n",
    "from PIL import Image\n",
    "import seaborn as sns\n",
    "import matplotlib.pyplot as plt\n",
    "from sklearn.model_selection import train_test_split\n",
    "from sklearn.preprocessing import StandardScaler\n",
    "from sklearn.preprocessing import MinMaxScaler\n",
    "from statsmodels.stats.outliers_influence import variance_inflation_factor\n",
    "from sklearn import linear_model\n",
    "from sklearn.linear_model import RidgeCV\n",
    "from sklearn.linear_model import Lasso"
   ]
  },
  {
   "cell_type": "code",
   "execution_count": 3,
   "metadata": {},
   "outputs": [
    {
     "name": "stdout",
     "output_type": "stream",
     "text": [
      "(80397, 433)\n",
      "(10000, 432)\n",
      "Wall time: 3.29 s\n"
     ]
    }
   ],
   "source": [
    "%%time\n",
    "train_transaction = pd.read_csv('newtrain_transaction_200000.csv', index_col='TransactionID')\n",
    "test_transaction = pd.read_csv('newtest_transaction_withoutlabel.csv', index_col='TransactionID')\n",
    "train_identity = pd.read_csv('newtrain_identity.csv', index_col='TransactionID')\n",
    "test_identity = pd.read_csv('newtest_identity.csv', index_col='TransactionID')\n",
    "sample_submission = pd.read_csv('newsample_submission.csv', index_col='TransactionID')\n",
    "\n",
    "train = train_transaction.merge(train_identity, how='left', left_index=True, right_index=True)\n",
    "test = test_transaction.merge(test_identity, how='left', left_index=True, right_index=True)\n",
    "\n",
    "print(train.shape)\n",
    "print(test.shape)\n",
    "\n",
    "y_train = train['isFraud'].copy()\n",
    "# del train_transaction, train_identity, test_transaction, test_identity\n",
    "\n",
    "\n",
    "# Drop target\n",
    "X_train = train.drop('isFraud', axis=1)\n",
    "X_test = test.copy()\n",
    "\n",
    "# del train, test"
   ]
  },
  {
   "cell_type": "markdown",
   "metadata": {},
   "source": [
    "### Distribution Visualization"
   ]
  },
  {
   "cell_type": "code",
   "execution_count": 9,
   "metadata": {},
   "outputs": [
    {
     "data": {
      "text/plain": [
       "['isFraud',\n",
       " 'TransactionDT',\n",
       " 'TransactionAmt',\n",
       " 'ProductCD',\n",
       " 'card1',\n",
       " 'card2',\n",
       " 'card3',\n",
       " 'card4',\n",
       " 'card5',\n",
       " 'card6',\n",
       " 'addr1',\n",
       " 'addr2',\n",
       " 'dist1',\n",
       " 'dist2',\n",
       " 'P_emaildomain',\n",
       " 'R_emaildomain',\n",
       " 'C1',\n",
       " 'C2',\n",
       " 'C3',\n",
       " 'C4',\n",
       " 'C5',\n",
       " 'C6',\n",
       " 'C7',\n",
       " 'C8',\n",
       " 'C9',\n",
       " 'C10',\n",
       " 'C11',\n",
       " 'C12',\n",
       " 'C13',\n",
       " 'C14',\n",
       " 'D1',\n",
       " 'D2',\n",
       " 'D3',\n",
       " 'D4',\n",
       " 'D5',\n",
       " 'D6',\n",
       " 'D7',\n",
       " 'D8',\n",
       " 'D9',\n",
       " 'D10',\n",
       " 'D11',\n",
       " 'D12',\n",
       " 'D13',\n",
       " 'D14',\n",
       " 'D15',\n",
       " 'M1',\n",
       " 'M2',\n",
       " 'M3',\n",
       " 'M4',\n",
       " 'M5',\n",
       " 'M6',\n",
       " 'M7',\n",
       " 'M8',\n",
       " 'M9',\n",
       " 'V1',\n",
       " 'V2',\n",
       " 'V3',\n",
       " 'V4',\n",
       " 'V5',\n",
       " 'V6',\n",
       " 'V7',\n",
       " 'V8',\n",
       " 'V9',\n",
       " 'V10',\n",
       " 'V11',\n",
       " 'V12',\n",
       " 'V13',\n",
       " 'V14',\n",
       " 'V15',\n",
       " 'V16',\n",
       " 'V17',\n",
       " 'V18',\n",
       " 'V19',\n",
       " 'V20',\n",
       " 'V21',\n",
       " 'V22',\n",
       " 'V23',\n",
       " 'V24',\n",
       " 'V25',\n",
       " 'V26',\n",
       " 'V27',\n",
       " 'V28',\n",
       " 'V29',\n",
       " 'V30',\n",
       " 'V31',\n",
       " 'V32',\n",
       " 'V33',\n",
       " 'V34',\n",
       " 'V35',\n",
       " 'V36',\n",
       " 'V37',\n",
       " 'V38',\n",
       " 'V39',\n",
       " 'V40',\n",
       " 'V41',\n",
       " 'V42',\n",
       " 'V43',\n",
       " 'V44',\n",
       " 'V45',\n",
       " 'V46',\n",
       " 'V47',\n",
       " 'V48',\n",
       " 'V49',\n",
       " 'V50',\n",
       " 'V51',\n",
       " 'V52',\n",
       " 'V53',\n",
       " 'V54',\n",
       " 'V55',\n",
       " 'V56',\n",
       " 'V57',\n",
       " 'V58',\n",
       " 'V59',\n",
       " 'V60',\n",
       " 'V61',\n",
       " 'V62',\n",
       " 'V63',\n",
       " 'V64',\n",
       " 'V65',\n",
       " 'V66',\n",
       " 'V67',\n",
       " 'V68',\n",
       " 'V69',\n",
       " 'V70',\n",
       " 'V71',\n",
       " 'V72',\n",
       " 'V73',\n",
       " 'V74',\n",
       " 'V75',\n",
       " 'V76',\n",
       " 'V77',\n",
       " 'V78',\n",
       " 'V79',\n",
       " 'V80',\n",
       " 'V81',\n",
       " 'V82',\n",
       " 'V83',\n",
       " 'V84',\n",
       " 'V85',\n",
       " 'V86',\n",
       " 'V87',\n",
       " 'V88',\n",
       " 'V89',\n",
       " 'V90',\n",
       " 'V91',\n",
       " 'V92',\n",
       " 'V93',\n",
       " 'V94',\n",
       " 'V95',\n",
       " 'V96',\n",
       " 'V97',\n",
       " 'V98',\n",
       " 'V99',\n",
       " 'V100',\n",
       " 'V101',\n",
       " 'V102',\n",
       " 'V103',\n",
       " 'V104',\n",
       " 'V105',\n",
       " 'V106',\n",
       " 'V107',\n",
       " 'V108',\n",
       " 'V109',\n",
       " 'V110',\n",
       " 'V111',\n",
       " 'V112',\n",
       " 'V113',\n",
       " 'V114',\n",
       " 'V115',\n",
       " 'V116',\n",
       " 'V117',\n",
       " 'V118',\n",
       " 'V119',\n",
       " 'V120',\n",
       " 'V121',\n",
       " 'V122',\n",
       " 'V123',\n",
       " 'V124',\n",
       " 'V125',\n",
       " 'V126',\n",
       " 'V127',\n",
       " 'V128',\n",
       " 'V129',\n",
       " 'V130',\n",
       " 'V131',\n",
       " 'V132',\n",
       " 'V133',\n",
       " 'V134',\n",
       " 'V135',\n",
       " 'V136',\n",
       " 'V137',\n",
       " 'V138',\n",
       " 'V139',\n",
       " 'V140',\n",
       " 'V141',\n",
       " 'V142',\n",
       " 'V143',\n",
       " 'V144',\n",
       " 'V145',\n",
       " 'V146',\n",
       " 'V147',\n",
       " 'V148',\n",
       " 'V149',\n",
       " 'V150',\n",
       " 'V151',\n",
       " 'V152',\n",
       " 'V153',\n",
       " 'V154',\n",
       " 'V155',\n",
       " 'V156',\n",
       " 'V157',\n",
       " 'V158',\n",
       " 'V159',\n",
       " 'V160',\n",
       " 'V161',\n",
       " 'V162',\n",
       " 'V163',\n",
       " 'V164',\n",
       " 'V165',\n",
       " 'V166',\n",
       " 'V167',\n",
       " 'V168',\n",
       " 'V169',\n",
       " 'V170',\n",
       " 'V171',\n",
       " 'V172',\n",
       " 'V173',\n",
       " 'V174',\n",
       " 'V175',\n",
       " 'V176',\n",
       " 'V177',\n",
       " 'V178',\n",
       " 'V179',\n",
       " 'V180',\n",
       " 'V181',\n",
       " 'V182',\n",
       " 'V183',\n",
       " 'V184',\n",
       " 'V185',\n",
       " 'V186',\n",
       " 'V187',\n",
       " 'V188',\n",
       " 'V189',\n",
       " 'V190',\n",
       " 'V191',\n",
       " 'V192',\n",
       " 'V193',\n",
       " 'V194',\n",
       " 'V195',\n",
       " 'V196',\n",
       " 'V197',\n",
       " 'V198',\n",
       " 'V199',\n",
       " 'V200',\n",
       " 'V201',\n",
       " 'V202',\n",
       " 'V203',\n",
       " 'V204',\n",
       " 'V205',\n",
       " 'V206',\n",
       " 'V207',\n",
       " 'V208',\n",
       " 'V209',\n",
       " 'V210',\n",
       " 'V211',\n",
       " 'V212',\n",
       " 'V213',\n",
       " 'V214',\n",
       " 'V215',\n",
       " 'V216',\n",
       " 'V217',\n",
       " 'V218',\n",
       " 'V219',\n",
       " 'V220',\n",
       " 'V221',\n",
       " 'V222',\n",
       " 'V223',\n",
       " 'V224',\n",
       " 'V225',\n",
       " 'V226',\n",
       " 'V227',\n",
       " 'V228',\n",
       " 'V229',\n",
       " 'V230',\n",
       " 'V231',\n",
       " 'V232',\n",
       " 'V233',\n",
       " 'V234',\n",
       " 'V235',\n",
       " 'V236',\n",
       " 'V237',\n",
       " 'V238',\n",
       " 'V239',\n",
       " 'V240',\n",
       " 'V241',\n",
       " 'V242',\n",
       " 'V243',\n",
       " 'V244',\n",
       " 'V245',\n",
       " 'V246',\n",
       " 'V247',\n",
       " 'V248',\n",
       " 'V249',\n",
       " 'V250',\n",
       " 'V251',\n",
       " 'V252',\n",
       " 'V253',\n",
       " 'V254',\n",
       " 'V255',\n",
       " 'V256',\n",
       " 'V257',\n",
       " 'V258',\n",
       " 'V259',\n",
       " 'V260',\n",
       " 'V261',\n",
       " 'V262',\n",
       " 'V263',\n",
       " 'V264',\n",
       " 'V265',\n",
       " 'V266',\n",
       " 'V267',\n",
       " 'V268',\n",
       " 'V269',\n",
       " 'V270',\n",
       " 'V271',\n",
       " 'V272',\n",
       " 'V273',\n",
       " 'V274',\n",
       " 'V275',\n",
       " 'V276',\n",
       " 'V277',\n",
       " 'V278',\n",
       " 'V279',\n",
       " 'V280',\n",
       " 'V281',\n",
       " 'V282',\n",
       " 'V283',\n",
       " 'V284',\n",
       " 'V285',\n",
       " 'V286',\n",
       " 'V287',\n",
       " 'V288',\n",
       " 'V289',\n",
       " 'V290',\n",
       " 'V291',\n",
       " 'V292',\n",
       " 'V293',\n",
       " 'V294',\n",
       " 'V295',\n",
       " 'V296',\n",
       " 'V297',\n",
       " 'V298',\n",
       " 'V299',\n",
       " 'V300',\n",
       " 'V301',\n",
       " 'V302',\n",
       " 'V303',\n",
       " 'V304',\n",
       " 'V305',\n",
       " 'V306',\n",
       " 'V307',\n",
       " 'V308',\n",
       " 'V309',\n",
       " 'V310',\n",
       " 'V311',\n",
       " 'V312',\n",
       " 'V313',\n",
       " 'V314',\n",
       " 'V315',\n",
       " 'V316',\n",
       " 'V317',\n",
       " 'V318',\n",
       " 'V319',\n",
       " 'V320',\n",
       " 'V321',\n",
       " 'V322',\n",
       " 'V323',\n",
       " 'V324',\n",
       " 'V325',\n",
       " 'V326',\n",
       " 'V327',\n",
       " 'V328',\n",
       " 'V329',\n",
       " 'V330',\n",
       " 'V331',\n",
       " 'V332',\n",
       " 'V333',\n",
       " 'V334',\n",
       " 'V335',\n",
       " 'V336',\n",
       " 'V337',\n",
       " 'V338',\n",
       " 'V339',\n",
       " 'id_01',\n",
       " 'id_02',\n",
       " 'id_03',\n",
       " 'id_04',\n",
       " 'id_05',\n",
       " 'id_06',\n",
       " 'id_07',\n",
       " 'id_08',\n",
       " 'id_09',\n",
       " 'id_10',\n",
       " 'id_11',\n",
       " 'id_12',\n",
       " 'id_13',\n",
       " 'id_14',\n",
       " 'id_15',\n",
       " 'id_16',\n",
       " 'id_17',\n",
       " 'id_18',\n",
       " 'id_19',\n",
       " 'id_20',\n",
       " 'id_21',\n",
       " 'id_22',\n",
       " 'id_23',\n",
       " 'id_24',\n",
       " 'id_25',\n",
       " 'id_26',\n",
       " 'id_27',\n",
       " 'id_28',\n",
       " 'id_29',\n",
       " 'id_30',\n",
       " 'id_31',\n",
       " 'id_32',\n",
       " 'id_33',\n",
       " 'id_34',\n",
       " 'id_35',\n",
       " 'id_36',\n",
       " 'id_37',\n",
       " 'id_38',\n",
       " 'DeviceType',\n",
       " 'DeviceInfo']"
      ]
     },
     "execution_count": 9,
     "metadata": {},
     "output_type": "execute_result"
    }
   ],
   "source": [
    "train.columns.tolist()"
   ]
  },
  {
   "cell_type": "code",
   "execution_count": 67,
   "metadata": {},
   "outputs": [],
   "source": [
    "#Plotting Seaborn Distribution Plot Function\n",
    "def sns_distplot(df,x,xlabel,hue,ylabel=None,element=None,title=None,color='steelblue',font=2.2,style='ticks',size=[18,9]):\n",
    "    #seaborn style and font size setting\n",
    "    sns.set(font_scale = font) \n",
    "    sns.set_style(style) \n",
    "    plot = sns.displot(df, x=x,kind='kde',color=color,hue=hue)\n",
    "    plot.set(xlabel=xlabel,ylabel=ylabel,title=title)\n",
    "    plot.figure.set_size_inches(size[0],size[1])\n",
    "\n",
    "#Plotting Seaborn Category Plot Function\n",
    "def sns_catplot(df,x,y,kind,hue=None,hue_order=None,xlabel=None,ylabel=None,title=None,color=None,palette=None,font=2,style='ticks',size=[10,10]):\n",
    "    sns.set(font_scale = font)\n",
    "    sns.set_style(style)\n",
    "    plot = sns.catplot(data=df, x=x,y=y,hue=hue,hue_order=hue_order,kind=kind,color=color,palette=palette,legend_out=False)\n",
    "    plot.set(xlabel=xlabel,ylabel=ylabel,title=title)\n",
    "    plot.figure.set_size_inches(size[0],size[1])  "
   ]
  },
  {
   "cell_type": "code",
   "execution_count": 68,
   "metadata": {},
   "outputs": [
    {
     "data": {
      "image/png": "[encoded data removed]",
      "text/plain": [
       "<Figure size 1296x648 with 1 Axes>"
      ]
     },
     "metadata": {},
     "output_type": "display_data"
    }
   ],
   "source": [
    "sns_distplot(train,x='TransactionAmt',xlabel=\"Transaction Amount\",ylabel=\"Density\",hue=\"isFraud\")"
   ]
  },
  {
   "cell_type": "code",
   "execution_count": 64,
   "metadata": {},
   "outputs": [
    {
     "data": {
      "image/png": "[encoded data removed]",
      "text/plain": [
       "<Figure size 720x720 with 1 Axes>"
      ]
     },
     "metadata": {},
     "output_type": "display_data"
    }
   ],
   "source": [
    "sns_catplot(train,x='isFraud',y='TransactionAmt',kind=\"box\",xlabel=\"Not Fraud / Fraud\",ylabel='Transaction Amount')"
   ]
  },
  {
   "cell_type": "markdown",
   "metadata": {},
   "source": [
    "### Check missing ratio"
   ]
  },
  {
   "cell_type": "code",
   "execution_count": 24,
   "metadata": {},
   "outputs": [],
   "source": [
    "# Function to calculate missing values by column# Funct \n",
    "def missing_values_table(df):\n",
    "        # Total missing values\n",
    "        mis_val = df.isnull().sum()\n",
    "        \n",
    "        # Percentage of missing values\n",
    "        mis_val_percent = 100 * df.isnull().sum() / len(df)\n",
    "        \n",
    "        # Make a table with the results\n",
    "        mis_val_table = pd.concat([mis_val, mis_val_percent], axis=1)\n",
    "        \n",
    "        # Rename the columns\n",
    "        mis_val_table_ren_columns = mis_val_table.rename(\n",
    "        columns = {0 : 'Missing Values', 1 : '% of Total Values'})\n",
    "        \n",
    "        # Sort the table by percentage of missing descending\n",
    "        mis_val_table_ren_columns = mis_val_table_ren_columns[\n",
    "            mis_val_table_ren_columns.iloc[:,1] != 0].sort_values('% of Total Values', ascending=False).round(1)\n",
    "        \n",
    "        # Print some summary information\n",
    "        print (\"Your selected dataframe has \" + str(df.shape[1]) + \" columns.\\n\"      \n",
    "            \"There are \" + str(mis_val_table_ren_columns.shape[0]) +\" columns that have missing values.\")\n",
    "        \n",
    "        # Return the dataframe with missing information\n",
    "        return mis_val_table_ren_columns"
   ]
  },
  {
   "cell_type": "markdown",
   "metadata": {},
   "source": [
    "### Drop the features with high missingratio (> 50%) "
   ]
  },
  {
   "cell_type": "code",
   "execution_count": 25,
   "metadata": {},
   "outputs": [
    {
     "name": "stdout",
     "output_type": "stream",
     "text": [
      "Your selected dataframe has 432 columns.\n",
      "There are 369 columns that have missing values.\n",
      "       Missing Values  % of Total Values\n",
      "id_24           79348               98.7\n",
      "id_25           79275               98.6\n",
      "id_21           79268               98.6\n",
      "id_07           79266               98.6\n",
      "id_08           79266               98.6\n",
      "...               ...                ...\n",
      "id_01           50672               63.0\n",
      "id_12           50672               63.0\n",
      "M4              45255               56.3\n",
      "D2              44303               55.1\n",
      "D3              43087               53.6\n",
      "\n",
      "[232 rows x 2 columns]\n",
      "Index(['id_24', 'id_25', 'id_21', 'id_07', 'id_08', 'id_26', 'id_27', 'id_22',\n",
      "       'id_23', 'D7',\n",
      "       ...\n",
      "       'id_15', 'id_29', 'id_38', 'id_11', 'D5', 'id_01', 'id_12', 'M4', 'D2',\n",
      "       'D3'],\n",
      "      dtype='object', length=232)\n"
     ]
    }
   ],
   "source": [
    "missing_values = missing_values_table(X_train)\n",
    "print(missing_values.head(232))\n",
    "\n",
    "# drop the absence \n",
    "drop_list=missing_values.index\n",
    "print(drop_list[0:232])"
   ]
  },
  {
   "cell_type": "code",
   "execution_count": 26,
   "metadata": {},
   "outputs": [
    {
     "name": "stdout",
     "output_type": "stream",
     "text": [
      "(80397, 432)\n",
      "(80397, 200)\n",
      "(80397, 113)\n"
     ]
    }
   ],
   "source": [
    "X_train=X_train.drop(columns=drop_list[0:232])\n",
    "X_test=X_test.drop(columns=drop_list[0:232])\n",
    "\n",
    "X_test_filter = X_test.copy()\n",
    "X_train_filter = X_train.copy()\n",
    "\n",
    "### drop all the NaN columns\n",
    "### dropna() - \n",
    "for column in X_test_filter.columns:\n",
    "        if pd.isnull(X_test_filter[column].unique()[0]):\n",
    "            X_train_filter.drop([column], axis = 1, inplace=True)\n",
    "            X_test_filter.drop([column], axis = 1, inplace=True)\n",
    "\n",
    "print(X_train_filter.shape)"
   ]
  },
  {
   "cell_type": "markdown",
   "metadata": {},
   "source": [
    "### Filling null values: fill with the value which is of the highest appearing frequency"
   ]
  },
  {
   "cell_type": "code",
   "execution_count": 8,
   "metadata": {},
   "outputs": [],
   "source": [
    "def fill_na_df(X_train, X_test):\n",
    "    for col_name in X_train.columns: \n",
    "        X_train[col_name].fillna(X_train[col_name].mode()[0], inplace=True)\n",
    "        X_test[col_name].fillna(X_test[col_name].mode()[0], inplace=True)"
   ]
  },
  {
   "cell_type": "code",
   "execution_count": 21,
   "metadata": {},
   "outputs": [
    {
     "name": "stdout",
     "output_type": "stream",
     "text": [
      "               TransactionDT  TransactionAmt  ProductCD  card1  card2  card3  \\\n",
      "TransactionID                                                                  \n",
      "2987000                86400          68.500          4  13926  321.0  150.0   \n",
      "2987001                86401          29.000          4   2755  404.0  150.0   \n",
      "2987002                86469          59.000          4   4663  490.0  150.0   \n",
      "2987003                86499          50.000          4  18132  567.0  150.0   \n",
      "2987004                86506          50.000          1   4497  514.0  150.0   \n",
      "...                      ...             ...        ...    ...    ...    ...   \n",
      "3069537              1781665          30.950          4  15385  111.0  150.0   \n",
      "3069538              1781683          15.000          4  16661  490.0  150.0   \n",
      "3069539              1781685          32.356          0   9633  130.0  185.0   \n",
      "3069540              1781696         335.000          4   2392  360.0  150.0   \n",
      "3069541              1781720         250.000          2   8695  170.0  150.0   \n",
      "\n",
      "               card4  card5  card6  addr1  ...        V312   V313    V314  \\\n",
      "TransactionID                              ...                              \n",
      "2987000            1  142.0      1  315.0  ...    0.000000    0.0     0.0   \n",
      "2987001            2  102.0      1  325.0  ...    0.000000    0.0     0.0   \n",
      "2987002            4  166.0      2  330.0  ...    0.000000    0.0     0.0   \n",
      "2987003            2  117.0      2  476.0  ...  135.000000    0.0     0.0   \n",
      "2987004            2  102.0      1  420.0  ...    0.000000    0.0     0.0   \n",
      "...              ...    ...    ...    ...  ...         ...    ...     ...   \n",
      "3069537            2  224.0      2  441.0  ...  137.949997    0.0     0.0   \n",
      "3069538            4  226.0      2  327.0  ...  127.000000    0.0     0.0   \n",
      "3069539            4  138.0      2  299.0  ...    0.000000    0.0     0.0   \n",
      "3069540            2  166.0      2  272.0  ...  452.000000  335.0  1793.0   \n",
      "3069541            4  226.0      1  264.0  ...    0.000000    0.0     0.0   \n",
      "\n",
      "                V315   V316    V317   V318  V319  V320  V321  \n",
      "TransactionID                                                 \n",
      "2987000          0.0    0.0   117.0    0.0   0.0   0.0   0.0  \n",
      "2987001          0.0    0.0     0.0    0.0   0.0   0.0   0.0  \n",
      "2987002          0.0    0.0     0.0    0.0   0.0   0.0   0.0  \n",
      "2987003          0.0   50.0  1404.0  790.0   0.0   0.0   0.0  \n",
      "2987004          0.0    0.0     0.0    0.0   0.0   0.0   0.0  \n",
      "...              ...    ...     ...    ...   ...   ...   ...  \n",
      "3069537          0.0    0.0     0.0    0.0   0.0   0.0   0.0  \n",
      "3069538          0.0    0.0     0.0    0.0   0.0   0.0   0.0  \n",
      "3069539          0.0    0.0     0.0    0.0   0.0   0.0   0.0  \n",
      "3069540        670.0  335.0   335.0  335.0   0.0   0.0   0.0  \n",
      "3069541          0.0    0.0     0.0    0.0   0.0   0.0   0.0  \n",
      "\n",
      "[80397 rows x 113 columns]\n"
     ]
    }
   ],
   "source": [
    "X_train_filter_fill = X_train_filter_.copy()\n",
    "X_test_filter_fill = X_test_filter_.copy()\n",
    "fill_na_df(X_train_filter_fill, X_test_filter_fill)\n",
    "print(X_train_filter_fill)"
   ]
  },
  {
   "cell_type": "markdown",
   "metadata": {},
   "source": [
    "### Label encoding "
   ]
  },
  {
   "cell_type": "code",
   "execution_count": 27,
   "metadata": {},
   "outputs": [],
   "source": [
    "# Label Encoding\n",
    "def label_encoding(X_train, X_test):\n",
    "    for f in X_train.columns:\n",
    "        if X_train[f].dtype=='object' or X_test[f].dtype=='object': \n",
    "            lbl = preprocessing.LabelEncoder()\n",
    "            lbl.fit(list(X_train[f].values) + list(X_test[f].values))\n",
    "            X_train[f] = lbl.transform(list(X_train[f].values))\n",
    "            X_test[f] = lbl.transform(list(X_test[f].values))\n",
    "    return X_train, X_test"
   ]
  },
  {
   "cell_type": "code",
   "execution_count": 29,
   "metadata": {},
   "outputs": [
    {
     "name": "stdout",
     "output_type": "stream",
     "text": [
      "(80397, 113)\n",
      "(10000, 113)\n"
     ]
    }
   ],
   "source": [
    "X_train_filter_, X_test_filter_ = label_encoding(X_train_filter, X_test_filter)\n",
    "print(X_train_filter_.shape)\n",
    "print(X_test_filter_.shape)"
   ]
  },
  {
   "cell_type": "code",
   "execution_count": 30,
   "metadata": {},
   "outputs": [
    {
     "name": "stdout",
     "output_type": "stream",
     "text": [
      "               TransactionDT  TransactionAmt  ProductCD  card1  card2  card3  \\\n",
      "TransactionID                                                                  \n",
      "2987000                86400          68.500          4  13926    NaN  150.0   \n",
      "2987001                86401          29.000          4   2755  404.0  150.0   \n",
      "2987002                86469          59.000          4   4663  490.0  150.0   \n",
      "2987003                86499          50.000          4  18132  567.0  150.0   \n",
      "2987004                86506          50.000          1   4497  514.0  150.0   \n",
      "...                      ...             ...        ...    ...    ...    ...   \n",
      "3069537              1781665          30.950          4  15385  111.0  150.0   \n",
      "3069538              1781683          15.000          4  16661  490.0  150.0   \n",
      "3069539              1781685          32.356          0   9633  130.0  185.0   \n",
      "3069540              1781696         335.000          4   2392  360.0  150.0   \n",
      "3069541              1781720         250.000          2   8695  170.0  150.0   \n",
      "\n",
      "               card4  card5  card6  addr1  ...        V312   V313    V314  \\\n",
      "TransactionID                              ...                              \n",
      "2987000            1  142.0      1  315.0  ...    0.000000    0.0     0.0   \n",
      "2987001            2  102.0      1  325.0  ...    0.000000    0.0     0.0   \n",
      "2987002            4  166.0      2  330.0  ...    0.000000    0.0     0.0   \n",
      "2987003            2  117.0      2  476.0  ...  135.000000    0.0     0.0   \n",
      "2987004            2  102.0      1  420.0  ...    0.000000    0.0     0.0   \n",
      "...              ...    ...    ...    ...  ...         ...    ...     ...   \n",
      "3069537            2  224.0      2  441.0  ...  137.949997    0.0     0.0   \n",
      "3069538            4  226.0      2  327.0  ...  127.000000    0.0     0.0   \n",
      "3069539            4  138.0      2    NaN  ...    0.000000    0.0     0.0   \n",
      "3069540            2  166.0      2  272.0  ...  452.000000  335.0  1793.0   \n",
      "3069541            4  226.0      1  264.0  ...         NaN    NaN     NaN   \n",
      "\n",
      "                V315   V316    V317   V318  V319  V320  V321  \n",
      "TransactionID                                                 \n",
      "2987000          0.0    0.0   117.0    0.0   0.0   0.0   0.0  \n",
      "2987001          0.0    0.0     0.0    0.0   0.0   0.0   0.0  \n",
      "2987002          0.0    0.0     0.0    0.0   0.0   0.0   0.0  \n",
      "2987003          0.0   50.0  1404.0  790.0   0.0   0.0   0.0  \n",
      "2987004          0.0    0.0     0.0    0.0   0.0   0.0   0.0  \n",
      "...              ...    ...     ...    ...   ...   ...   ...  \n",
      "3069537          0.0    0.0     0.0    0.0   0.0   0.0   0.0  \n",
      "3069538          0.0    0.0     0.0    0.0   0.0   0.0   0.0  \n",
      "3069539          0.0    0.0     0.0    0.0   0.0   0.0   0.0  \n",
      "3069540        670.0  335.0   335.0  335.0   0.0   0.0   0.0  \n",
      "3069541          NaN    NaN     NaN    NaN   NaN   NaN   NaN  \n",
      "\n",
      "[80397 rows x 113 columns]\n"
     ]
    }
   ],
   "source": [
    "print(X_train_filter_)"
   ]
  },
  {
   "cell_type": "markdown",
   "metadata": {},
   "source": [
    "### Reduce memory usage"
   ]
  },
  {
   "cell_type": "code",
   "execution_count": 10,
   "metadata": {},
   "outputs": [],
   "source": [
    "def reduce_mem_usage(df):\n",
    "    \"\"\" iterate through all the columns of a dataframe and modify the data type\n",
    "        to reduce memory usage.        \n",
    "    \"\"\"\n",
    "    start_mem = df.memory_usage().sum() / 1024**2\n",
    "    print('Memory usage of dataframe is {:.2f} MB'.format(start_mem))\n",
    "    \n",
    "    for col in df.columns:\n",
    "        col_type = df[col].dtype\n",
    "        \n",
    "        if col_type != object:\n",
    "            c_min = df[col].min()\n",
    "            c_max = df[col].max()\n",
    "            if str(col_type)[:3] == 'int':\n",
    "                if c_min > np.iinfo(np.int8).min and c_max < np.iinfo(np.int8).max:\n",
    "                    df[col] = df[col].astype(np.int8)\n",
    "                elif c_min > np.iinfo(np.int16).min and c_max < np.iinfo(np.int16).max:\n",
    "                    df[col] = df[col].astype(np.int16)\n",
    "                elif c_min > np.iinfo(np.int32).min and c_max < np.iinfo(np.int32).max:\n",
    "                    df[col] = df[col].astype(np.int32)\n",
    "                elif c_min > np.iinfo(np.int64).min and c_max < np.iinfo(np.int64).max:\n",
    "                    df[col] = df[col].astype(np.int64)  \n",
    "            else:\n",
    "                if c_min > np.finfo(np.float16).min and c_max < np.finfo(np.float16).max:\n",
    "                    df[col] = df[col].astype(np.float16)\n",
    "                elif c_min > np.finfo(np.float32).min and c_max < np.finfo(np.float32).max:\n",
    "                    df[col] = df[col].astype(np.float32)\n",
    "                else:\n",
    "                    df[col] = df[col].astype(np.float64)\n",
    "        else:\n",
    "            df[col] = df[col].astype('category')\n",
    "\n",
    "    end_mem = df.memory_usage().sum() / 1024**2\n",
    "    print('Memory usage after optimization is: {:.2f} MB'.format(end_mem))\n",
    "    print('Decreased by {:.1f}%'.format(100 * (start_mem - end_mem) / start_mem))\n",
    "    \n",
    "    return df"
   ]
  },
  {
   "cell_type": "code",
   "execution_count": 11,
   "metadata": {},
   "outputs": [
    {
     "name": "stdout",
     "output_type": "stream",
     "text": [
      "Memory usage of dataframe is 68.70 MB\n",
      "Memory usage after optimization is: 18.86 MB\n",
      "Decreased by 72.5%\n",
      "Memory usage of dataframe is 8.54 MB\n",
      "Memory usage after optimization is: 2.30 MB\n",
      "Decreased by 73.1%\n",
      "Wall time: 5.07 s\n"
     ]
    }
   ],
   "source": [
    "%%time\n",
    "X_train_filter_fill = reduce_mem_usage(pd.DataFrame(X_train_filter_fill))\n",
    "X_test_filter_fill = reduce_mem_usage(pd.DataFrame(X_test_filter_fill))"
   ]
  },
  {
   "cell_type": "markdown",
   "metadata": {},
   "source": [
    "### Split training data and testing data"
   ]
  },
  {
   "cell_type": "code",
   "execution_count": 12,
   "metadata": {},
   "outputs": [],
   "source": [
    "x1=X_train_filter_fill.columns\n",
    "x2=X_test_filter_fill.columns\n",
    "\n",
    "sc = StandardScaler()\n",
    "X_train_filter_fill = sc.fit_transform(X_train_filter_fill)\n",
    "X_test_filter_fill = sc.fit_transform(X_test_filter_fill)\n",
    "\n",
    "\n",
    "X_train2, X_test2, Y_train2, Y_test2 = train_test_split(X_train_filter_fill, train['isFraud'], test_size=0.1, random_state=1)\n",
    "X_train = np.array(X_train2)\n",
    "y_train = np.array(Y_train2)\n",
    "X_test = np.array(X_test2)\n",
    "y_test = np.array(Y_test2)\n",
    "\n",
    "\n",
    "X_train = pd.DataFrame(data=X_train, columns=x1)\n",
    "X_test = pd.DataFrame(data=X_test, columns=x2)"
   ]
  },
  {
   "cell_type": "code",
   "execution_count": 20,
   "metadata": {},
   "outputs": [
    {
     "name": "stdout",
     "output_type": "stream",
     "text": [
      "      TransactionDT  TransactionAmt  ProductCD     card1     card2     card3  \\\n",
      "0          0.817831       -0.062733   0.736075 -1.540449  0.279205 -0.275574   \n",
      "1          1.339465       -0.512884   0.736075  0.225519 -0.049370 -0.275574   \n",
      "2          1.359837        0.574182  -0.595463  0.152556  0.197062 -0.275574   \n",
      "3         -0.575129        0.574182  -0.595463  1.377901 -1.249935 -0.275574   \n",
      "4         -0.971320        0.334740  -0.595463 -0.919749 -0.112558 -0.275574   \n",
      "...             ...             ...        ...       ...       ...       ...   \n",
      "8035       1.621646       -0.144144  -0.595463  0.663302 -1.249935 -0.275574   \n",
      "8036       0.416340       -0.326419   0.736075 -1.667476 -1.224660 -0.275574   \n",
      "8037       0.252218       -0.223159   0.736075 -1.157135  0.494043 -0.275574   \n",
      "8038       1.365342       -0.106132   0.736075 -0.035443  1.182788 -0.275574   \n",
      "8039       0.813651       -0.546631   0.736075  0.147474  1.182788 -0.275574   \n",
      "\n",
      "         card4     card5     card6     addr1  ...      V312      V313  \\\n",
      "0     0.689217  0.624526  0.705505 -1.083827  ... -0.253646 -0.197604   \n",
      "1     0.689217 -0.854366  0.705505  0.233992  ... -0.253646 -0.197604   \n",
      "2    -2.959123 -0.386050 -1.414729  1.421035  ... -0.253646 -0.197604   \n",
      "3     0.689217  0.624526 -1.414729  0.334589  ... -0.253646 -0.197604   \n",
      "4     0.689217 -1.470571 -1.414729 -0.892693  ...  1.403209  2.205422   \n",
      "...        ...       ...       ...       ...  ...       ...       ...   \n",
      "8035 -1.134953 -2.431851 -1.414729 -0.611022  ... -0.253646 -0.197604   \n",
      "8036  0.689217  0.624526  0.705505 -0.882633  ... -0.253646 -0.197604   \n",
      "8037  0.689217  0.624526  0.705505  0.334589  ... -0.253646 -0.197604   \n",
      "8038 -1.134953  0.575230  0.705505 -0.279052  ... -0.253646 -0.197604   \n",
      "8039 -1.134953  0.575230  0.705505 -0.279052  ... -0.253646 -0.197604   \n",
      "\n",
      "          V314      V315      V316      V317      V318     V319      V320  \\\n",
      "0    -0.224367 -0.210825 -0.107189 -0.074171 -0.097066 -0.03578 -0.058097   \n",
      "1    -0.224367 -0.210825 -0.107189 -0.074171 -0.097066 -0.03578 -0.058097   \n",
      "2    -0.224367 -0.210825 -0.107189 -0.074171 -0.097066 -0.03578 -0.058097   \n",
      "3    -0.224367 -0.210825  0.861889  0.107669  0.350512 -0.03578 -0.058097   \n",
      "4     1.084866  1.847089 -0.107189 -0.074171 -0.097066 -0.03578 -0.058097   \n",
      "...        ...       ...       ...       ...       ...      ...       ...   \n",
      "8035 -0.224367 -0.210825  0.280442 -0.001435  0.081965 -0.03578 -0.058097   \n",
      "8036 -0.224367 -0.210825 -0.107189 -0.074171 -0.097066 -0.03578 -0.058097   \n",
      "8037 -0.224367 -0.210825 -0.107189 -0.074171 -0.097066 -0.03578 -0.058097   \n",
      "8038 -0.224367 -0.210825 -0.107189 -0.074171 -0.097066 -0.03578 -0.058097   \n",
      "8039 -0.224367 -0.210825 -0.107189 -0.021182 -0.097066 -0.03578 -0.058097   \n",
      "\n",
      "          V321  \n",
      "0    -0.043376  \n",
      "1    -0.043376  \n",
      "2    -0.043376  \n",
      "3    -0.043376  \n",
      "4    -0.043376  \n",
      "...        ...  \n",
      "8035 -0.043376  \n",
      "8036 -0.043376  \n",
      "8037 -0.043376  \n",
      "8038 -0.043376  \n",
      "8039 -0.043376  \n",
      "\n",
      "[8040 rows x 113 columns]\n"
     ]
    }
   ],
   "source": [
    "print(X_test)"
   ]
  },
  {
   "cell_type": "markdown",
   "metadata": {},
   "source": [
    "### Feature detection and analysis:  Pearson coefficient and VIF"
   ]
  },
  {
   "cell_type": "code",
   "execution_count": 17,
   "metadata": {},
   "outputs": [
    {
     "name": "stdout",
     "output_type": "stream",
     "text": [
      "                TransactionDT  TransactionAmt  ProductCD     card1     card2  \\\n",
      "TransactionDT        1.000000        0.004347  -0.156036 -0.001232  0.044008   \n",
      "TransactionAmt       0.004347        1.000000   0.158789 -0.008198  0.008922   \n",
      "ProductCD           -0.156036        0.158789   1.000000  0.007465 -0.110306   \n",
      "card1               -0.001232       -0.008198   0.007465  1.000000 -0.008139   \n",
      "card2                0.044008        0.008922  -0.110306 -0.008139  1.000000   \n",
      "...                       ...             ...        ...       ...       ...   \n",
      "V317                -0.004772        0.033879  -0.009975  0.017549 -0.002445   \n",
      "V318                -0.007849        0.079623   0.004620  0.014437 -0.010540   \n",
      "V319                 0.007588        0.079427  -0.000912  0.009369  0.003008   \n",
      "V320                 0.004235        0.089266   0.005455  0.014198  0.005203   \n",
      "V321                 0.007786        0.085205   0.002548  0.010652  0.003621   \n",
      "\n",
      "                   card3     card4     card5     card6     addr1  ...  \\\n",
      "TransactionDT   0.031619 -0.005123 -0.007229 -0.105260 -0.007568  ...   \n",
      "TransactionAmt -0.108405 -0.034058 -0.013532 -0.130552 -0.015346  ...   \n",
      "ProductCD      -0.534089  0.078614  0.120520  0.347662 -0.033672  ...   \n",
      "card1          -0.003618  0.050040 -0.079861  0.025615  0.018040  ...   \n",
      "card2           0.016593  0.026614  0.037269 -0.152497  0.027422  ...   \n",
      "...                  ...       ...       ...       ...       ...  ...   \n",
      "V317           -0.016988  0.022998  0.023699 -0.018508 -0.014068  ...   \n",
      "V318           -0.020171  0.022004  0.022788 -0.014370 -0.025613  ...   \n",
      "V319           -0.008297  0.000024  0.002662 -0.013302 -0.006430  ...   \n",
      "V320           -0.013834  0.009698  0.009783 -0.011746 -0.013239  ...   \n",
      "V321           -0.009975  0.002932  0.004302 -0.012717 -0.008658  ...   \n",
      "\n",
      "                    V312      V313      V314      V315      V316      V317  \\\n",
      "TransactionDT  -0.019666 -0.017159 -0.027260 -0.022090  0.003350 -0.004772   \n",
      "TransactionAmt  0.145862  0.178826  0.129037  0.165061  0.139489  0.033879   \n",
      "ProductCD       0.139609  0.092726  0.133163  0.108693  0.006701 -0.009975   \n",
      "card1           0.000619  0.000415 -0.003924 -0.004418  0.011260  0.017549   \n",
      "card2          -0.019554 -0.000552 -0.009874 -0.000985 -0.006675 -0.002445   \n",
      "...                  ...       ...       ...       ...       ...       ...   \n",
      "V317            0.109166  0.034705  0.142888  0.062105  0.464650  1.000000   \n",
      "V318            0.189280  0.064015  0.184697  0.086243  0.685445  0.874680   \n",
      "V319            0.013262  0.020625  0.009177  0.016885  0.125885  0.022136   \n",
      "V320            0.045566  0.031672  0.029989  0.030448  0.171869  0.177808   \n",
      "V321            0.028764  0.023392  0.013532  0.022397  0.128432  0.038703   \n",
      "\n",
      "                    V318      V319      V320      V321  \n",
      "TransactionDT  -0.007849  0.007588  0.004235  0.007786  \n",
      "TransactionAmt  0.079623  0.079427  0.089266  0.085205  \n",
      "ProductCD       0.004620 -0.000912  0.005455  0.002548  \n",
      "card1           0.014437  0.009369  0.014198  0.010652  \n",
      "card2          -0.010540  0.003008  0.005203  0.003621  \n",
      "...                  ...       ...       ...       ...  \n",
      "V317            0.874680  0.022136  0.177808  0.038703  \n",
      "V318            1.000000  0.055875  0.177330  0.065811  \n",
      "V319            0.055875  1.000000  0.960448  0.991021  \n",
      "V320            0.177330  0.960448  1.000000  0.976886  \n",
      "V321            0.065811  0.991021  0.976886  1.000000  \n",
      "\n",
      "[113 rows x 113 columns]\n"
     ]
    },
    {
     "data": {
      "image/png": "[encoded data removed]",
      "text/plain": [
       "<Figure size 648x504 with 2 Axes>"
      ]
     },
     "metadata": {
      "needs_background": "light"
     },
     "output_type": "display_data"
    }
   ],
   "source": [
    "# correlation\n",
    "col_balance=X_train.columns.tolist()\n",
    "correlation=X_train.corr()\n",
    "print(correlation)\n",
    "\n",
    "plt.figure(figsize=(9, 7))\n",
    "sns.heatmap(correlation)\n",
    "plt.savefig(\"correlation.png\")"
   ]
  },
  {
   "cell_type": "code",
   "execution_count": 27,
   "metadata": {},
   "outputs": [],
   "source": [
    "# vif\n",
    "def calulate_vif(X):  \n",
    "    X[X.shape[1]]=1\n",
    "    #vif\n",
    "    vif=[]\n",
    "    for i in range(X.shape[1]-1):\n",
    "        vif.append(variance_inflation_factor(X.values,i))\n",
    "    #result_out\n",
    "    yy=pd.DataFrame(X.columns[:-1,])\n",
    "    yy.rename(columns={0:\"var_name\"},inplace=True) \n",
    "    yy[\"vif\"]=vif\n",
    "    print(yy)\n"
   ]
  },
  {
   "cell_type": "code",
   "execution_count": 19,
   "metadata": {},
   "outputs": [
    {
     "name": "stdout",
     "output_type": "stream",
     "text": [
      "['TransactionDT', 'TransactionAmt', 'ProductCD', 'card1', 'card2', 'card3', 'card4', 'card5', 'card6', 'addr1', 'addr2', 'P_emaildomain', 'C1', 'C2', 'C3', 'C4', 'C5', 'C6', 'C7', 'C8', 'C9', 'C10', 'C11', 'C12', 'C13', 'C14', 'D1', 'V95', 'V96', 'V97', 'V98', 'V99', 'V100', 'V101', 'V102', 'V103', 'V104', 'V105', 'V106', 'V107', 'V108', 'V109', 'V110', 'V111', 'V112', 'V113', 'V114', 'V115', 'V116', 'V117', 'V118', 'V119', 'V120', 'V121', 'V122', 'V123', 'V124', 'V125', 'V126', 'V127', 'V128', 'V129', 'V130', 'V131', 'V132', 'V133', 'V134', 'V135', 'V136', 'V137', 'V279', 'V280', 'V281', 'V282', 'V283', 'V284', 'V285', 'V286', 'V287', 'V288', 'V289', 'V290', 'V291', 'V292', 'V293', 'V294', 'V295', 'V296', 'V297', 'V298', 'V299', 'V300', 'V301', 'V302', 'V303', 'V304', 'V305', 'V306', 'V307', 'V308', 'V309', 'V310', 'V311', 'V312', 'V313', 'V314', 'V315', 'V316', 'V317', 'V318', 'V319', 'V320', 'V321']\n"
     ]
    }
   ],
   "source": [
    "col_list=X_train.columns.tolist()\n",
    "# print(col_list)\n",
    "#calulate_vif(X_train_filter_fill[col_list])"
   ]
  },
  {
   "cell_type": "code",
   "execution_count": 36,
   "metadata": {},
   "outputs": [
    {
     "name": "stderr",
     "output_type": "stream",
     "text": [
      "c:\\users\\8\\appdata\\local\\programs\\python\\python37\\lib\\site-packages\\statsmodels\\regression\\linear_model.py:1715: RuntimeWarning: invalid value encountered in double_scalars\n",
      "  return 1 - self.ssr/self.centered_tss\n"
     ]
    },
    {
     "name": "stdout",
     "output_type": "stream",
     "text": [
      "           var_name            vif\n",
      "0     TransactionDT       1.091443\n",
      "1    TransactionAmt       1.211365\n",
      "2         ProductCD       5.593843\n",
      "3             card1       1.023290\n",
      "4             card2       1.043145\n",
      "..              ...            ...\n",
      "108            V317  895407.844654\n",
      "109            V318  149847.475156\n",
      "110            V319    7305.496028\n",
      "111            V320  102013.615253\n",
      "112            V321  100281.442635\n",
      "\n",
      "[113 rows x 2 columns]\n"
     ]
    }
   ],
   "source": [
    "calulate_vif(X_train[['TransactionDT', 'TransactionAmt', 'ProductCD', 'card1', 'card2', 'card3', 'card4', 'card5', 'card6', 'addr1', 'addr2', 'P_emaildomain', 'C1', 'C2', 'C3', 'C4', 'C5', 'C6', 'C7', 'C8', 'C9', 'C10', 'C11', 'C12', 'C13', 'C14', 'D1', 'V95', 'V96', 'V97', 'V98', 'V99', 'V100', 'V101', 'V102', 'V103', 'V104', 'V105', 'V106', 'V107', 'V108', 'V109', 'V110', 'V111', 'V112', 'V113', 'V114', 'V115', 'V116', 'V117', 'V118', 'V119', 'V120', 'V121', 'V122', 'V123', 'V124', 'V125', 'V126', 'V127', 'V128', 'V129', 'V130', 'V131', 'V132', 'V133', 'V134', 'V135', 'V136', 'V137', 'V279', 'V280', 'V281', 'V282', 'V283', 'V284', 'V285', 'V286', 'V287', 'V288', 'V289', 'V290', 'V291', 'V292', 'V293', 'V294', 'V295', 'V296', 'V297', 'V298', 'V299', 'V300', 'V301', 'V302', 'V303', 'V304', 'V305', 'V306', 'V307', 'V308', 'V309', 'V310', 'V311', 'V312', 'V313', 'V314', 'V315', 'V316', 'V317', 'V318', 'V319', 'V320', 'V321']])"
   ]
  },
  {
   "cell_type": "markdown",
   "metadata": {},
   "source": [
    "### Feature Selection: use Lasso to select useful features"
   ]
  },
  {
   "cell_type": "code",
   "execution_count": 13,
   "metadata": {},
   "outputs": [
    {
     "name": "stdout",
     "output_type": "stream",
     "text": [
      "[-1.35710812e-03  1.43358431e-03  5.19426183e-03 -2.92795080e-03\n",
      " -2.27739178e-03  2.08685142e-02  1.60523512e-03 -5.57064967e-04\n",
      " -8.47573826e-03 -9.24656306e-04 -8.37903758e-04 -2.64300250e-04\n",
      " -0.00000000e+00  5.96015088e-02 -2.39340240e-03  0.00000000e+00\n",
      " -0.00000000e+00  0.00000000e+00 -1.76218816e-02 -0.00000000e+00\n",
      "  3.11202549e-03  0.00000000e+00  0.00000000e+00 -0.00000000e+00\n",
      " -4.50123984e-03 -3.52549497e-02 -2.22385666e-03 -0.00000000e+00\n",
      " -8.76293516e-03 -0.00000000e+00  0.00000000e+00 -0.00000000e+00\n",
      " -0.00000000e+00  7.48678478e-03 -0.00000000e+00  7.31564645e-03\n",
      " -3.98076761e-03 -6.14273632e-03 -0.00000000e+00  0.00000000e+00\n",
      "  4.58547906e-03  2.94127950e-03 -4.75322258e-03 -0.00000000e+00\n",
      "  5.97663362e-03  5.71814622e-03 -3.87613316e-03  3.59727426e-04\n",
      " -6.06538689e-04 -1.30987110e-03 -0.00000000e+00  0.00000000e+00\n",
      "  3.10515274e-03 -1.55126668e-03  2.29493080e-03  9.60950844e-03\n",
      "  0.00000000e+00  3.39796170e-03  0.00000000e+00  0.00000000e+00\n",
      " -1.82246967e-04  9.34362703e-04 -2.18907171e-03 -2.52326569e-03\n",
      "  0.00000000e+00  1.02038155e-02 -1.40017668e-02 -0.00000000e+00\n",
      " -0.00000000e+00  0.00000000e+00 -0.00000000e+00 -0.00000000e+00\n",
      "  1.68991577e-03  6.56718937e-04  5.44593701e-03  4.42775538e-03\n",
      " -8.53664911e-04 -5.59110024e-03  3.57005042e-03  1.92408638e-05\n",
      "  1.72845498e-03 -5.73395784e-04  0.00000000e+00  0.00000000e+00\n",
      " -5.91499160e-03  0.00000000e+00 -9.76702231e-03  8.24938190e-03\n",
      "  1.75742450e-03  5.81657233e-03  5.07070766e-04 -1.39272125e-02\n",
      "  1.33737204e-02 -4.21399608e-02  6.49665223e-03  4.07291464e-02\n",
      " -2.97719755e-05  0.00000000e+00 -0.00000000e+00  3.19325204e-03\n",
      "  8.79869524e-04  1.29561063e-03 -3.80119078e-03  7.10530786e-03\n",
      "  3.45709462e-03 -2.20171718e-03 -1.81314371e-03 -4.33076403e-03\n",
      "  0.00000000e+00  1.25377426e-02  0.00000000e+00 -2.31583055e-03\n",
      "  0.00000000e+00]\n"
     ]
    },
    {
     "data": {
      "text/plain": [
       "[<matplotlib.lines.Line2D at 0x2ddd6903dc8>]"
      ]
     },
     "execution_count": 13,
     "metadata": {},
     "output_type": "execute_result"
    },
    {
     "data": {
      "image/png": "[encoded data removed]",
      "text/plain": [
       "<Figure size 432x288 with 1 Axes>"
      ]
     },
     "metadata": {
      "needs_background": "light"
     },
     "output_type": "display_data"
    }
   ],
   "source": [
    "alpha = 0.0001\n",
    "lasso = Lasso(alpha=alpha)\n",
    "model = lasso.fit(X_train,y_train)\n",
    "print(model.coef_)\n",
    "plt.plot(model.coef_, color='gold', linewidth=2,label='Lasso coefficients')"
   ]
  },
  {
   "cell_type": "code",
   "execution_count": 14,
   "metadata": {},
   "outputs": [],
   "source": [
    "coef=model.coef_\n",
    "for i in range(0,len(model.coef_)):\n",
    "    if model.coef_[i]!=0:\n",
    "               coef[i]=1"
   ]
  },
  {
   "cell_type": "code",
   "execution_count": 15,
   "metadata": {
    "scrolled": true
   },
   "outputs": [],
   "source": [
    "\n",
    "y_train=pd.DataFrame(y_train,columns=[\"Y\"])\n",
    "y_test=pd.DataFrame(y_test,columns=[\"Y\"])\n",
    "\n",
    "\n",
    "coef_X_train=coef*X_train\n",
    "data_train=X_train.join(y_train)\n",
    "\n",
    "\n",
    "coef_X_test=coef*X_test\n",
    "data_test=coef_X_test.join(y_test)\n"
   ]
  },
  {
   "cell_type": "code",
   "execution_count": 16,
   "metadata": {},
   "outputs": [
    {
     "data": {
      "text/plain": [
       "36"
      ]
     },
     "execution_count": 16,
     "metadata": {},
     "output_type": "execute_result"
    }
   ],
   "source": [
    "listdrop=[]\n",
    "colname=data_train.columns.tolist()\n",
    "coef=model.coef_\n",
    "for i in range(0,len(model.coef_)):\n",
    "    if model.coef_[i]==0:\n",
    "            listdrop.append(colname[i])\n",
    "            \n",
    "len(listdrop)"
   ]
  },
  {
   "cell_type": "code",
   "execution_count": 34,
   "metadata": {},
   "outputs": [],
   "source": [
    "data_train=data_train.drop(columns=listdrop)\n",
    "# data_train.to_csv('train.csv')\n",
    "\n",
    "data_test=data_test.drop(columns=listdrop)\n",
    "#data_test.to_csv('test.csv')"
   ]
  }
 ],
 "metadata": {
  "kernelspec": {
   "display_name": "Python 3 (ipykernel)",
   "language": "python",
   "name": "python3"
  },
  "language_info": {
   "codemirror_mode": {
    "name": "ipython",
    "version": 3
   },
   "file_extension": ".py",
   "mimetype": "text/x-python",
   "name": "python",
   "nbconvert_exporter": "python",
   "pygments_lexer": "ipython3",
   "version": "3.9.7"
  },
  "toc": {
   "base_numbering": 1,
   "nav_menu": {},
   "number_sections": true,
   "sideBar": true,
   "skip_h1_title": false,
   "title_cell": "Table of Contents",
   "title_sidebar": "Contents",
   "toc_cell": false,
   "toc_position": {},
   "toc_section_display": true,
   "toc_window_display": false
  }
 },
 "nbformat": 4,
 "nbformat_minor": 4
}
